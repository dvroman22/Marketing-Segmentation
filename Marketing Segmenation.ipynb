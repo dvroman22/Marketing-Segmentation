{
 "cells": [
  {
   "cell_type": "code",
   "execution_count": 136,
   "metadata": {},
   "outputs": [],
   "source": [
    "## Import libraries\n",
    "\n",
    "import pandas as pd\n",
    "import numpy as np\n",
    "import matplotlib as mpl\n",
    "import matplotlib.pyplot as plt\n",
    "import matplotlib.cm as cm\n",
    "import nltk \n",
    "import seaborn as sns\n",
    "import datetime\n",
    "import itertools\n",
    "\n",
    "from nltk.tokenize import word_tokenize\n",
    "from nltk import pos_tag, word_tokenize\n",
    "from sklearn.cluster import KMeans\n",
    "from sklearn.metrics import silhouette_samples, silhouette_score\n",
    "from sklearn import metrics, model_selection, feature_selection\n",
    "from sklearn.preprocessing import StandardScaler\n",
    "from sklearn.linear_model import LogisticRegression\n",
    "from sklearn import neighbors, linear_model, svm, tree\n",
    "from sklearn.tree import DecisionTreeClassifier\n",
    "from sklearn.ensemble import GradientBoostingClassifier\n",
    "from sklearn.metrics import accuracy_score\n",
    "\n",
    "from numpy import loadtxt\n",
    "\n",
    "import warnings\n",
    "warnings.filterwarnings(\"ignore\", category=FutureWarning)\n",
    "\n",
    "from sklearn.metrics import confusion_matrix\n",
    "from sklearn.metrics import classification_report\n",
    "\n",
    "import dask.dataframe as dd\n",
    " \n",
    "pd.reset_option('precision')"
   ]
  },
  {
   "cell_type": "code",
   "execution_count": 137,
   "metadata": {},
   "outputs": [],
   "source": [
    "## Read online marketing file\n",
    "\n",
    "df_marketingdata = pd.read_csv('C:/Data/Online Retail.csv', dtype={'CustomerID':str})\n",
    "\n",
    "## Change InvoiceDate to datetime \n",
    "df_marketingdata['InvoiceDate']= pd.to_datetime(df_marketingdata['InvoiceDate']) \n"
   ]
  },
  {
   "cell_type": "code",
   "execution_count": 138,
   "metadata": {},
   "outputs": [
    {
     "name": "stdout",
     "output_type": "stream",
     "text": [
      "<class 'pandas.core.frame.DataFrame'>\n",
      "RangeIndex: 541909 entries, 0 to 541908\n",
      "Data columns (total 8 columns):\n",
      "InvoiceNo      541909 non-null object\n",
      "StockCode      541909 non-null object\n",
      "Description    540455 non-null object\n",
      "Quantity       541909 non-null int64\n",
      "InvoiceDate    541909 non-null datetime64[ns]\n",
      "UnitPrice      541909 non-null float64\n",
      "CustomerID     406829 non-null object\n",
      "Country        541909 non-null object\n",
      "dtypes: datetime64[ns](1), float64(1), int64(1), object(5)\n",
      "memory usage: 33.1+ MB\n"
     ]
    }
   ],
   "source": [
    "## View data information\n",
    "\n",
    "df_marketingdata.info()"
   ]
  },
  {
   "cell_type": "code",
   "execution_count": 79,
   "metadata": {},
   "outputs": [],
   "source": [
    "## EXPLORATORY DATA ANALYSIS"
   ]
  },
  {
   "cell_type": "code",
   "execution_count": 139,
   "metadata": {},
   "outputs": [
    {
     "data": {
      "text/html": [
       "<div>\n",
       "<style scoped>\n",
       "    .dataframe tbody tr th:only-of-type {\n",
       "        vertical-align: middle;\n",
       "    }\n",
       "\n",
       "    .dataframe tbody tr th {\n",
       "        vertical-align: top;\n",
       "    }\n",
       "\n",
       "    .dataframe thead th {\n",
       "        text-align: right;\n",
       "    }\n",
       "</style>\n",
       "<table border=\"1\" class=\"dataframe\">\n",
       "  <thead>\n",
       "    <tr style=\"text-align: right;\">\n",
       "      <th></th>\n",
       "      <th>InvoiceNo</th>\n",
       "      <th>StockCode</th>\n",
       "      <th>Description</th>\n",
       "      <th>Quantity</th>\n",
       "      <th>InvoiceDate</th>\n",
       "      <th>UnitPrice</th>\n",
       "      <th>CustomerID</th>\n",
       "      <th>Country</th>\n",
       "    </tr>\n",
       "  </thead>\n",
       "  <tbody>\n",
       "    <tr>\n",
       "      <th>0</th>\n",
       "      <td>536365</td>\n",
       "      <td>85123A</td>\n",
       "      <td>WHITE HANGING HEART T-LIGHT HOLDER</td>\n",
       "      <td>6</td>\n",
       "      <td>2010-12-01 08:26:00</td>\n",
       "      <td>2.55</td>\n",
       "      <td>17850</td>\n",
       "      <td>United Kingdom</td>\n",
       "    </tr>\n",
       "    <tr>\n",
       "      <th>1</th>\n",
       "      <td>536365</td>\n",
       "      <td>71053</td>\n",
       "      <td>WHITE METAL LANTERN</td>\n",
       "      <td>6</td>\n",
       "      <td>2010-12-01 08:26:00</td>\n",
       "      <td>3.39</td>\n",
       "      <td>17850</td>\n",
       "      <td>United Kingdom</td>\n",
       "    </tr>\n",
       "    <tr>\n",
       "      <th>2</th>\n",
       "      <td>536365</td>\n",
       "      <td>84406B</td>\n",
       "      <td>CREAM CUPID HEARTS COAT HANGER</td>\n",
       "      <td>8</td>\n",
       "      <td>2010-12-01 08:26:00</td>\n",
       "      <td>2.75</td>\n",
       "      <td>17850</td>\n",
       "      <td>United Kingdom</td>\n",
       "    </tr>\n",
       "    <tr>\n",
       "      <th>3</th>\n",
       "      <td>536365</td>\n",
       "      <td>84029G</td>\n",
       "      <td>KNITTED UNION FLAG HOT WATER BOTTLE</td>\n",
       "      <td>6</td>\n",
       "      <td>2010-12-01 08:26:00</td>\n",
       "      <td>3.39</td>\n",
       "      <td>17850</td>\n",
       "      <td>United Kingdom</td>\n",
       "    </tr>\n",
       "    <tr>\n",
       "      <th>4</th>\n",
       "      <td>536365</td>\n",
       "      <td>84029E</td>\n",
       "      <td>RED WOOLLY HOTTIE WHITE HEART.</td>\n",
       "      <td>6</td>\n",
       "      <td>2010-12-01 08:26:00</td>\n",
       "      <td>3.39</td>\n",
       "      <td>17850</td>\n",
       "      <td>United Kingdom</td>\n",
       "    </tr>\n",
       "  </tbody>\n",
       "</table>\n",
       "</div>"
      ],
      "text/plain": [
       "  InvoiceNo StockCode                          Description  Quantity  \\\n",
       "0    536365    85123A   WHITE HANGING HEART T-LIGHT HOLDER         6   \n",
       "1    536365     71053                  WHITE METAL LANTERN         6   \n",
       "2    536365    84406B       CREAM CUPID HEARTS COAT HANGER         8   \n",
       "3    536365    84029G  KNITTED UNION FLAG HOT WATER BOTTLE         6   \n",
       "4    536365    84029E       RED WOOLLY HOTTIE WHITE HEART.         6   \n",
       "\n",
       "          InvoiceDate  UnitPrice CustomerID         Country  \n",
       "0 2010-12-01 08:26:00       2.55      17850  United Kingdom  \n",
       "1 2010-12-01 08:26:00       3.39      17850  United Kingdom  \n",
       "2 2010-12-01 08:26:00       2.75      17850  United Kingdom  \n",
       "3 2010-12-01 08:26:00       3.39      17850  United Kingdom  \n",
       "4 2010-12-01 08:26:00       3.39      17850  United Kingdom  "
      ]
     },
     "execution_count": 139,
     "metadata": {},
     "output_type": "execute_result"
    }
   ],
   "source": [
    "## View the first few records to understand the data fields\n",
    "\n",
    "df_marketingdata.head()"
   ]
  },
  {
   "cell_type": "code",
   "execution_count": 140,
   "metadata": {},
   "outputs": [
    {
     "data": {
      "text/html": [
       "<div>\n",
       "<style scoped>\n",
       "    .dataframe tbody tr th:only-of-type {\n",
       "        vertical-align: middle;\n",
       "    }\n",
       "\n",
       "    .dataframe tbody tr th {\n",
       "        vertical-align: top;\n",
       "    }\n",
       "\n",
       "    .dataframe thead th {\n",
       "        text-align: right;\n",
       "    }\n",
       "</style>\n",
       "<table border=\"1\" class=\"dataframe\">\n",
       "  <thead>\n",
       "    <tr style=\"text-align: right;\">\n",
       "      <th></th>\n",
       "      <th>Quantity</th>\n",
       "      <th>UnitPrice</th>\n",
       "    </tr>\n",
       "  </thead>\n",
       "  <tbody>\n",
       "    <tr>\n",
       "      <th>count</th>\n",
       "      <td>541909.000000</td>\n",
       "      <td>541909.000000</td>\n",
       "    </tr>\n",
       "    <tr>\n",
       "      <th>mean</th>\n",
       "      <td>9.552250</td>\n",
       "      <td>4.611114</td>\n",
       "    </tr>\n",
       "    <tr>\n",
       "      <th>std</th>\n",
       "      <td>218.081158</td>\n",
       "      <td>96.759853</td>\n",
       "    </tr>\n",
       "    <tr>\n",
       "      <th>min</th>\n",
       "      <td>-80995.000000</td>\n",
       "      <td>-11062.060000</td>\n",
       "    </tr>\n",
       "    <tr>\n",
       "      <th>25%</th>\n",
       "      <td>1.000000</td>\n",
       "      <td>1.250000</td>\n",
       "    </tr>\n",
       "    <tr>\n",
       "      <th>50%</th>\n",
       "      <td>3.000000</td>\n",
       "      <td>2.080000</td>\n",
       "    </tr>\n",
       "    <tr>\n",
       "      <th>75%</th>\n",
       "      <td>10.000000</td>\n",
       "      <td>4.130000</td>\n",
       "    </tr>\n",
       "    <tr>\n",
       "      <th>max</th>\n",
       "      <td>80995.000000</td>\n",
       "      <td>38970.000000</td>\n",
       "    </tr>\n",
       "  </tbody>\n",
       "</table>\n",
       "</div>"
      ],
      "text/plain": [
       "            Quantity      UnitPrice\n",
       "count  541909.000000  541909.000000\n",
       "mean        9.552250       4.611114\n",
       "std       218.081158      96.759853\n",
       "min    -80995.000000  -11062.060000\n",
       "25%         1.000000       1.250000\n",
       "50%         3.000000       2.080000\n",
       "75%        10.000000       4.130000\n",
       "max     80995.000000   38970.000000"
      ]
     },
     "execution_count": 140,
     "metadata": {},
     "output_type": "execute_result"
    }
   ],
   "source": [
    "# Produce summary statistics on numeric data\n",
    "\n",
    "df_marketingdata[['Quantity','UnitPrice']].describe()"
   ]
  },
  {
   "cell_type": "code",
   "execution_count": 141,
   "metadata": {},
   "outputs": [
    {
     "name": "stdout",
     "output_type": "stream",
     "text": [
      "Number of invoices:  25900\n"
     ]
    }
   ],
   "source": [
    "# Determine the number of invoices\n",
    "\n",
    "invoice_grp = df_marketingdata[['InvoiceNo']].groupby(['InvoiceNo'])\n",
    "invoice_grp = invoice_grp['InvoiceNo'].count()\n",
    "\n",
    "print('Number of invoices: ', len(invoice_grp))\n"
   ]
  },
  {
   "cell_type": "code",
   "execution_count": 142,
   "metadata": {},
   "outputs": [
    {
     "name": "stdout",
     "output_type": "stream",
     "text": [
      "Number of Customer ID invoices:  4372\n"
     ]
    }
   ],
   "source": [
    "# Determine the number of customers\n",
    "\n",
    "invoice_grp = df_marketingdata[['CustomerID']].groupby(['CustomerID'])\n",
    "invoice_grp = invoice_grp['CustomerID'].count()\n",
    "\n",
    "print('Number of Customer ID invoices: ', len(invoice_grp))"
   ]
  },
  {
   "cell_type": "code",
   "execution_count": 143,
   "metadata": {},
   "outputs": [
    {
     "data": {
      "text/plain": [
       "invoice_type\n",
       "A       3\n",
       "C    9288\n",
       "dtype: int64"
      ]
     },
     "execution_count": 143,
     "metadata": {},
     "output_type": "execute_result"
    }
   ],
   "source": [
    "# List all invoices that contain a letter\n",
    "\n",
    "df_marketingdata['invoice_type'] = df_marketingdata['InvoiceNo'].str.extract(r'(\\D)')\n",
    "\n",
    "df_filteredinvoice = df_marketingdata[df_marketingdata['invoice_type'].notnull()]\n",
    "\n",
    "# Group all different types of indicators on the Invoice Number\n",
    "\n",
    "filt_inv = df_filteredinvoice.groupby('invoice_type').size()\n",
    "\n",
    "filt_inv"
   ]
  },
  {
   "cell_type": "code",
   "execution_count": 144,
   "metadata": {},
   "outputs": [
    {
     "data": {
      "text/html": [
       "<div>\n",
       "<style scoped>\n",
       "    .dataframe tbody tr th:only-of-type {\n",
       "        vertical-align: middle;\n",
       "    }\n",
       "\n",
       "    .dataframe tbody tr th {\n",
       "        vertical-align: top;\n",
       "    }\n",
       "\n",
       "    .dataframe thead th {\n",
       "        text-align: right;\n",
       "    }\n",
       "</style>\n",
       "<table border=\"1\" class=\"dataframe\">\n",
       "  <thead>\n",
       "    <tr style=\"text-align: right;\">\n",
       "      <th></th>\n",
       "      <th>InvoiceNo</th>\n",
       "      <th>StockCode</th>\n",
       "      <th>Description</th>\n",
       "      <th>Quantity</th>\n",
       "      <th>InvoiceDate</th>\n",
       "      <th>UnitPrice</th>\n",
       "      <th>CustomerID</th>\n",
       "      <th>Country</th>\n",
       "      <th>invoice_type</th>\n",
       "    </tr>\n",
       "  </thead>\n",
       "  <tbody>\n",
       "    <tr>\n",
       "      <th>141</th>\n",
       "      <td>C536379</td>\n",
       "      <td>D</td>\n",
       "      <td>Discount</td>\n",
       "      <td>-1</td>\n",
       "      <td>2010-12-01 09:41:00</td>\n",
       "      <td>27.50</td>\n",
       "      <td>14527</td>\n",
       "      <td>United Kingdom</td>\n",
       "      <td>C</td>\n",
       "    </tr>\n",
       "    <tr>\n",
       "      <th>154</th>\n",
       "      <td>C536383</td>\n",
       "      <td>35004C</td>\n",
       "      <td>SET OF 3 COLOURED  FLYING DUCKS</td>\n",
       "      <td>-1</td>\n",
       "      <td>2010-12-01 09:49:00</td>\n",
       "      <td>4.65</td>\n",
       "      <td>15311</td>\n",
       "      <td>United Kingdom</td>\n",
       "      <td>C</td>\n",
       "    </tr>\n",
       "    <tr>\n",
       "      <th>235</th>\n",
       "      <td>C536391</td>\n",
       "      <td>22556</td>\n",
       "      <td>PLASTERS IN TIN CIRCUS PARADE</td>\n",
       "      <td>-12</td>\n",
       "      <td>2010-12-01 10:24:00</td>\n",
       "      <td>1.65</td>\n",
       "      <td>17548</td>\n",
       "      <td>United Kingdom</td>\n",
       "      <td>C</td>\n",
       "    </tr>\n",
       "    <tr>\n",
       "      <th>236</th>\n",
       "      <td>C536391</td>\n",
       "      <td>21984</td>\n",
       "      <td>PACK OF 12 PINK PAISLEY TISSUES</td>\n",
       "      <td>-24</td>\n",
       "      <td>2010-12-01 10:24:00</td>\n",
       "      <td>0.29</td>\n",
       "      <td>17548</td>\n",
       "      <td>United Kingdom</td>\n",
       "      <td>C</td>\n",
       "    </tr>\n",
       "    <tr>\n",
       "      <th>237</th>\n",
       "      <td>C536391</td>\n",
       "      <td>21983</td>\n",
       "      <td>PACK OF 12 BLUE PAISLEY TISSUES</td>\n",
       "      <td>-24</td>\n",
       "      <td>2010-12-01 10:24:00</td>\n",
       "      <td>0.29</td>\n",
       "      <td>17548</td>\n",
       "      <td>United Kingdom</td>\n",
       "      <td>C</td>\n",
       "    </tr>\n",
       "  </tbody>\n",
       "</table>\n",
       "</div>"
      ],
      "text/plain": [
       "    InvoiceNo StockCode                       Description  Quantity  \\\n",
       "141   C536379         D                          Discount        -1   \n",
       "154   C536383    35004C   SET OF 3 COLOURED  FLYING DUCKS        -1   \n",
       "235   C536391     22556    PLASTERS IN TIN CIRCUS PARADE        -12   \n",
       "236   C536391     21984  PACK OF 12 PINK PAISLEY TISSUES        -24   \n",
       "237   C536391     21983  PACK OF 12 BLUE PAISLEY TISSUES        -24   \n",
       "\n",
       "            InvoiceDate  UnitPrice CustomerID         Country invoice_type  \n",
       "141 2010-12-01 09:41:00      27.50      14527  United Kingdom            C  \n",
       "154 2010-12-01 09:49:00       4.65      15311  United Kingdom            C  \n",
       "235 2010-12-01 10:24:00       1.65      17548  United Kingdom            C  \n",
       "236 2010-12-01 10:24:00       0.29      17548  United Kingdom            C  \n",
       "237 2010-12-01 10:24:00       0.29      17548  United Kingdom            C  "
      ]
     },
     "execution_count": 144,
     "metadata": {},
     "output_type": "execute_result"
    }
   ],
   "source": [
    "# View some of the data where the invoice contains a 'C' or 'D'\n",
    "\n",
    "df_filteredinvoice.head()"
   ]
  },
  {
   "cell_type": "code",
   "execution_count": 145,
   "metadata": {},
   "outputs": [
    {
     "data": {
      "text/html": [
       "<div>\n",
       "<style scoped>\n",
       "    .dataframe tbody tr th:only-of-type {\n",
       "        vertical-align: middle;\n",
       "    }\n",
       "\n",
       "    .dataframe tbody tr th {\n",
       "        vertical-align: top;\n",
       "    }\n",
       "\n",
       "    .dataframe thead th {\n",
       "        text-align: right;\n",
       "    }\n",
       "</style>\n",
       "<table border=\"1\" class=\"dataframe\">\n",
       "  <thead>\n",
       "    <tr style=\"text-align: right;\">\n",
       "      <th></th>\n",
       "      <th>InvoiceNo</th>\n",
       "      <th>StockCode</th>\n",
       "      <th>Description</th>\n",
       "      <th>Quantity</th>\n",
       "      <th>InvoiceDate</th>\n",
       "      <th>UnitPrice</th>\n",
       "      <th>CustomerID</th>\n",
       "      <th>Country</th>\n",
       "      <th>invoice_type</th>\n",
       "    </tr>\n",
       "  </thead>\n",
       "  <tbody>\n",
       "    <tr>\n",
       "      <th>299982</th>\n",
       "      <td>A563185</td>\n",
       "      <td>B</td>\n",
       "      <td>Adjust bad debt</td>\n",
       "      <td>1</td>\n",
       "      <td>2011-08-12 14:50:00</td>\n",
       "      <td>11062.06</td>\n",
       "      <td>NaN</td>\n",
       "      <td>United Kingdom</td>\n",
       "      <td>A</td>\n",
       "    </tr>\n",
       "    <tr>\n",
       "      <th>299983</th>\n",
       "      <td>A563186</td>\n",
       "      <td>B</td>\n",
       "      <td>Adjust bad debt</td>\n",
       "      <td>1</td>\n",
       "      <td>2011-08-12 14:51:00</td>\n",
       "      <td>-11062.06</td>\n",
       "      <td>NaN</td>\n",
       "      <td>United Kingdom</td>\n",
       "      <td>A</td>\n",
       "    </tr>\n",
       "    <tr>\n",
       "      <th>299984</th>\n",
       "      <td>A563187</td>\n",
       "      <td>B</td>\n",
       "      <td>Adjust bad debt</td>\n",
       "      <td>1</td>\n",
       "      <td>2011-08-12 14:52:00</td>\n",
       "      <td>-11062.06</td>\n",
       "      <td>NaN</td>\n",
       "      <td>United Kingdom</td>\n",
       "      <td>A</td>\n",
       "    </tr>\n",
       "  </tbody>\n",
       "</table>\n",
       "</div>"
      ],
      "text/plain": [
       "       InvoiceNo StockCode      Description  Quantity         InvoiceDate  \\\n",
       "299982   A563185         B  Adjust bad debt         1 2011-08-12 14:50:00   \n",
       "299983   A563186         B  Adjust bad debt         1 2011-08-12 14:51:00   \n",
       "299984   A563187         B  Adjust bad debt         1 2011-08-12 14:52:00   \n",
       "\n",
       "        UnitPrice CustomerID         Country invoice_type  \n",
       "299982   11062.06        NaN  United Kingdom            A  \n",
       "299983  -11062.06        NaN  United Kingdom            A  \n",
       "299984  -11062.06        NaN  United Kingdom            A  "
      ]
     },
     "execution_count": 145,
     "metadata": {},
     "output_type": "execute_result"
    }
   ],
   "source": [
    "# Explore the records that contain an 'A'\n",
    "\n",
    "df_marketingdata['invoice_type'] = df_marketingdata['InvoiceNo'].str.extract(r'(\\D)')\n",
    "\n",
    "df_filteredinvoice = df_marketingdata[df_marketingdata['invoice_type'].notnull()]\n",
    "\n",
    "df_filteredinvoice.loc[df_filteredinvoice['invoice_type'].str.contains('A')]\n"
   ]
  },
  {
   "cell_type": "code",
   "execution_count": 146,
   "metadata": {},
   "outputs": [
    {
     "name": "stdout",
     "output_type": "stream",
     "text": [
      "Variables with missing values \n",
      "\n",
      "  InvoiceNo            0\n",
      "StockCode            0\n",
      "Description       1454\n",
      "Quantity             0\n",
      "InvoiceDate          0\n",
      "UnitPrice            0\n",
      "CustomerID      135080\n",
      "Country              0\n",
      "invoice_type    532618\n",
      "dtype: int64\n"
     ]
    }
   ],
   "source": [
    "## Check for missing values\n",
    "\n",
    "print('Variables with missing values \\n\\n ', df_marketingdata.isnull().sum())"
   ]
  },
  {
   "cell_type": "code",
   "execution_count": null,
   "metadata": {},
   "outputs": [],
   "source": [
    "## DATA CLEANSING"
   ]
  },
  {
   "cell_type": "code",
   "execution_count": 147,
   "metadata": {},
   "outputs": [
    {
     "name": "stdout",
     "output_type": "stream",
     "text": [
      "Variables wiith missing values after removing CustomerID missing values \n",
      "\n",
      " InvoiceNo            0\n",
      "StockCode            0\n",
      "Description          0\n",
      "Quantity             0\n",
      "InvoiceDate          0\n",
      "UnitPrice            0\n",
      "CustomerID           0\n",
      "Country              0\n",
      "invoice_type    397924\n",
      "dtype: int64\n"
     ]
    }
   ],
   "source": [
    "## Remove missing values from CustomerID\n",
    "\n",
    "df_marketingdata.dropna(subset = ['CustomerID'],inplace=True)\n",
    "\n",
    "print('Variables wiith missing values after removing CustomerID missing values \\n\\n', df_marketingdata.isnull().sum())"
   ]
  },
  {
   "cell_type": "code",
   "execution_count": 148,
   "metadata": {},
   "outputs": [
    {
     "data": {
      "text/plain": [
       "(406829, 9)"
      ]
     },
     "execution_count": 148,
     "metadata": {},
     "output_type": "execute_result"
    }
   ],
   "source": [
    "## View the data shape after missing records were removed \n",
    "\n",
    "df_marketingdata.shape"
   ]
  },
  {
   "cell_type": "code",
   "execution_count": 149,
   "metadata": {},
   "outputs": [
    {
     "data": {
      "text/plain": [
       "invoice_type\n",
       "C    8905\n",
       "dtype: int64"
      ]
     },
     "execution_count": 149,
     "metadata": {},
     "output_type": "execute_result"
    }
   ],
   "source": [
    "# Group the indicators on the Invoice Number\n",
    "\n",
    "filt_inv = df_marketingdata.groupby('invoice_type').size()\n",
    "\n",
    "filt_inv\n"
   ]
  },
  {
   "cell_type": "code",
   "execution_count": 150,
   "metadata": {},
   "outputs": [
    {
     "name": "stdout",
     "output_type": "stream",
     "text": [
      "Number of orders cancelled:  8905\n",
      "\n",
      "Percentage of orders cancelled:  2.19 %\n"
     ]
    }
   ],
   "source": [
    "# Calculate the percentage of cancelled records in the file to determine approach on how to handle these records\n",
    "\n",
    "df_marketingdata['cancel record']= df_marketingdata['InvoiceNo'].str.startswith('C', 'A')\n",
    "\n",
    "df_marketingdata.loc[df_marketingdata['cancel record'] == True].head()\n",
    "\n",
    "num_cancel = df_marketingdata['cancel record'].sum()\n",
    "num_records = df_marketingdata.shape[0]\n",
    "\n",
    "# Produce the percentate of orders cancelled\n",
    "total_percent = (num_cancel/num_records) * 100\n",
    "print(\"Number of orders cancelled: \", num_cancel)\n",
    "print(\"\")\n",
    "print(\"Percentage of orders cancelled: \", round(total_percent,2),'%')\n"
   ]
  },
  {
   "cell_type": "code",
   "execution_count": 151,
   "metadata": {},
   "outputs": [
    {
     "name": "stdout",
     "output_type": "stream",
     "text": [
      "Index of records to remove: 8772\n"
     ]
    }
   ],
   "source": [
    "# Remove the cancelled invoices that that do not have a previous invoice in the data \n",
    "\n",
    "# Create a tempoary dataframe to assess what records to remove and create a Amount Cancelled field to\n",
    "# keep track of the amount of the invoice that was cancelled\n",
    "df_mkdataclean = df_marketingdata.copy(deep = True)\n",
    "df_mkdataclean['AmountCancelled'] = 0\n",
    "\n",
    "remove_record = []\n",
    "\n",
    "# Create a new dataframe df_mktest with a quantity of more than 0 or a Discount amount\n",
    "for index, col in df_mkdataclean.iterrows():\n",
    "    if (col['Quantity'] > 0) or col['Description']  == 'Discount': continue\n",
    "    df_mktest = df_marketingdata[(df_marketingdata['CustomerID'] == col['CustomerID']) &\n",
    "                               (df_marketingdata['StockCode'] == col['StockCode']) &\n",
    "                               (df_marketingdata['InvoiceDate'] < col['InvoiceDate']) &\n",
    "                               (df_marketingdata['Quantity'] > 0)].copy()\n",
    "        \n",
    "    # Identify the record index where there are no previous rows \n",
    "    if (df_mktest.shape[0] == 0):\n",
    "        remove_record.append(index)\n",
    "    \n",
    "    # Identify records with a previous transaction\n",
    "    elif (df_mktest.shape[0] == 1):\n",
    "        index_order = df_mktest.index[0]\n",
    "        df_mkdataclean.loc[index_order, 'AmountCancelled'] = -col['Quantity']\n",
    "        remove_record.append(index)\n",
    "   \n",
    "     # Identify the record index where there are multple invoices associated with the customerid\n",
    "    elif (df_mktest.shape[0] > 1):\n",
    "        df_mktest.sort_index(axis=0, ascending=False, inplace=True)\n",
    "        \n",
    "        #Process through multiple invoices for the customerid\n",
    "        for ind, val in df_mktest.iterrows():\n",
    "            if val['Quantity'] < -col['Quantity']: continue\n",
    "            df_mkdataclean.loc[ind, 'AmountCancelled'] = -col['Quantity']\n",
    "            remove_record.append(index)\n",
    "            break\n",
    "            \n",
    "\n",
    "print(\"Index of records to remove: {}\".format(len(remove_record)))"
   ]
  },
  {
   "cell_type": "code",
   "execution_count": 152,
   "metadata": {},
   "outputs": [],
   "source": [
    "#Remove records for that meet conditions\n",
    "\n",
    "df_mkdataclean.drop(remove_record, axis=0, inplace=True)\n"
   ]
  },
  {
   "cell_type": "code",
   "execution_count": 153,
   "metadata": {},
   "outputs": [
    {
     "data": {
      "text/html": [
       "<div>\n",
       "<style scoped>\n",
       "    .dataframe tbody tr th:only-of-type {\n",
       "        vertical-align: middle;\n",
       "    }\n",
       "\n",
       "    .dataframe tbody tr th {\n",
       "        vertical-align: top;\n",
       "    }\n",
       "\n",
       "    .dataframe thead th {\n",
       "        text-align: right;\n",
       "    }\n",
       "</style>\n",
       "<table border=\"1\" class=\"dataframe\">\n",
       "  <thead>\n",
       "    <tr style=\"text-align: right;\">\n",
       "      <th></th>\n",
       "      <th>InvoiceNo</th>\n",
       "      <th>StockCode</th>\n",
       "      <th>Description</th>\n",
       "      <th>Quantity</th>\n",
       "      <th>InvoiceDate</th>\n",
       "      <th>UnitPrice</th>\n",
       "      <th>CustomerID</th>\n",
       "      <th>Country</th>\n",
       "      <th>AmountCancelled</th>\n",
       "    </tr>\n",
       "  </thead>\n",
       "  <tbody>\n",
       "    <tr>\n",
       "      <th>0</th>\n",
       "      <td>536365</td>\n",
       "      <td>85123A</td>\n",
       "      <td>WHITE HANGING HEART T-LIGHT HOLDER</td>\n",
       "      <td>6</td>\n",
       "      <td>2010-12-01 08:26:00</td>\n",
       "      <td>2.55</td>\n",
       "      <td>17850</td>\n",
       "      <td>United Kingdom</td>\n",
       "      <td>0</td>\n",
       "    </tr>\n",
       "    <tr>\n",
       "      <th>1</th>\n",
       "      <td>536365</td>\n",
       "      <td>71053</td>\n",
       "      <td>WHITE METAL LANTERN</td>\n",
       "      <td>6</td>\n",
       "      <td>2010-12-01 08:26:00</td>\n",
       "      <td>3.39</td>\n",
       "      <td>17850</td>\n",
       "      <td>United Kingdom</td>\n",
       "      <td>0</td>\n",
       "    </tr>\n",
       "    <tr>\n",
       "      <th>2</th>\n",
       "      <td>536365</td>\n",
       "      <td>84406B</td>\n",
       "      <td>CREAM CUPID HEARTS COAT HANGER</td>\n",
       "      <td>8</td>\n",
       "      <td>2010-12-01 08:26:00</td>\n",
       "      <td>2.75</td>\n",
       "      <td>17850</td>\n",
       "      <td>United Kingdom</td>\n",
       "      <td>0</td>\n",
       "    </tr>\n",
       "    <tr>\n",
       "      <th>3</th>\n",
       "      <td>536365</td>\n",
       "      <td>84029G</td>\n",
       "      <td>KNITTED UNION FLAG HOT WATER BOTTLE</td>\n",
       "      <td>6</td>\n",
       "      <td>2010-12-01 08:26:00</td>\n",
       "      <td>3.39</td>\n",
       "      <td>17850</td>\n",
       "      <td>United Kingdom</td>\n",
       "      <td>0</td>\n",
       "    </tr>\n",
       "    <tr>\n",
       "      <th>4</th>\n",
       "      <td>536365</td>\n",
       "      <td>84029E</td>\n",
       "      <td>RED WOOLLY HOTTIE WHITE HEART.</td>\n",
       "      <td>6</td>\n",
       "      <td>2010-12-01 08:26:00</td>\n",
       "      <td>3.39</td>\n",
       "      <td>17850</td>\n",
       "      <td>United Kingdom</td>\n",
       "      <td>0</td>\n",
       "    </tr>\n",
       "  </tbody>\n",
       "</table>\n",
       "</div>"
      ],
      "text/plain": [
       "  InvoiceNo StockCode                          Description  Quantity  \\\n",
       "0    536365    85123A   WHITE HANGING HEART T-LIGHT HOLDER         6   \n",
       "1    536365     71053                  WHITE METAL LANTERN         6   \n",
       "2    536365    84406B       CREAM CUPID HEARTS COAT HANGER         8   \n",
       "3    536365    84029G  KNITTED UNION FLAG HOT WATER BOTTLE         6   \n",
       "4    536365    84029E       RED WOOLLY HOTTIE WHITE HEART.         6   \n",
       "\n",
       "          InvoiceDate  UnitPrice CustomerID         Country  AmountCancelled  \n",
       "0 2010-12-01 08:26:00       2.55      17850  United Kingdom                0  \n",
       "1 2010-12-01 08:26:00       3.39      17850  United Kingdom                0  \n",
       "2 2010-12-01 08:26:00       2.75      17850  United Kingdom                0  \n",
       "3 2010-12-01 08:26:00       3.39      17850  United Kingdom                0  \n",
       "4 2010-12-01 08:26:00       3.39      17850  United Kingdom                0  "
      ]
     },
     "execution_count": 153,
     "metadata": {},
     "output_type": "execute_result"
    }
   ],
   "source": [
    "# Remove columns no longer needed\n",
    "\n",
    "df_mkdataclean.drop('invoice_type', axis = 1, inplace=True)\n",
    "df_mkdataclean.drop('cancel record', axis = 1, inplace = True)\n",
    "\n",
    "df_mkdataclean.head()"
   ]
  },
  {
   "cell_type": "code",
   "execution_count": 154,
   "metadata": {},
   "outputs": [],
   "source": [
    "#Save file to a picle file\n",
    "\n",
    "df_mkdataclean.to_pickle(\"C:/Data/df_mkdataclean.pkl\")\n"
   ]
  },
  {
   "cell_type": "code",
   "execution_count": null,
   "metadata": {},
   "outputs": [],
   "source": [
    "## ADDITIONAL EXPLORATORY DATA ANALYSIS AND DATA CLEANSING"
   ]
  },
  {
   "cell_type": "code",
   "execution_count": 155,
   "metadata": {},
   "outputs": [
    {
     "data": {
      "text/html": [
       "<div>\n",
       "<style scoped>\n",
       "    .dataframe tbody tr th:only-of-type {\n",
       "        vertical-align: middle;\n",
       "    }\n",
       "\n",
       "    .dataframe tbody tr th {\n",
       "        vertical-align: top;\n",
       "    }\n",
       "\n",
       "    .dataframe thead th {\n",
       "        text-align: right;\n",
       "    }\n",
       "</style>\n",
       "<table border=\"1\" class=\"dataframe\">\n",
       "  <thead>\n",
       "    <tr style=\"text-align: right;\">\n",
       "      <th></th>\n",
       "      <th>Quantity</th>\n",
       "      <th>UnitPrice</th>\n",
       "    </tr>\n",
       "  </thead>\n",
       "  <tbody>\n",
       "    <tr>\n",
       "      <th>count</th>\n",
       "      <td>398057.000000</td>\n",
       "      <td>398057.000000</td>\n",
       "    </tr>\n",
       "    <tr>\n",
       "      <th>mean</th>\n",
       "      <td>13.011466</td>\n",
       "      <td>3.129594</td>\n",
       "    </tr>\n",
       "    <tr>\n",
       "      <th>std</th>\n",
       "      <td>180.395290</td>\n",
       "      <td>22.320776</td>\n",
       "    </tr>\n",
       "    <tr>\n",
       "      <th>min</th>\n",
       "      <td>-720.000000</td>\n",
       "      <td>0.000000</td>\n",
       "    </tr>\n",
       "    <tr>\n",
       "      <th>25%</th>\n",
       "      <td>2.000000</td>\n",
       "      <td>1.250000</td>\n",
       "    </tr>\n",
       "    <tr>\n",
       "      <th>50%</th>\n",
       "      <td>6.000000</td>\n",
       "      <td>1.950000</td>\n",
       "    </tr>\n",
       "    <tr>\n",
       "      <th>75%</th>\n",
       "      <td>12.000000</td>\n",
       "      <td>3.750000</td>\n",
       "    </tr>\n",
       "    <tr>\n",
       "      <th>max</th>\n",
       "      <td>80995.000000</td>\n",
       "      <td>8142.750000</td>\n",
       "    </tr>\n",
       "  </tbody>\n",
       "</table>\n",
       "</div>"
      ],
      "text/plain": [
       "            Quantity      UnitPrice\n",
       "count  398057.000000  398057.000000\n",
       "mean       13.011466       3.129594\n",
       "std       180.395290      22.320776\n",
       "min      -720.000000       0.000000\n",
       "25%         2.000000       1.250000\n",
       "50%         6.000000       1.950000\n",
       "75%        12.000000       3.750000\n",
       "max     80995.000000    8142.750000"
      ]
     },
     "execution_count": 155,
     "metadata": {},
     "output_type": "execute_result"
    }
   ],
   "source": [
    "# Produce summmary statistics after removal of cancelled records\n",
    "\n",
    "df_mkdataclean[['Quantity','UnitPrice']].describe()"
   ]
  },
  {
   "cell_type": "code",
   "execution_count": 156,
   "metadata": {
    "scrolled": true
   },
   "outputs": [
    {
     "data": {
      "text/html": [
       "<div>\n",
       "<style scoped>\n",
       "    .dataframe tbody tr th:only-of-type {\n",
       "        vertical-align: middle;\n",
       "    }\n",
       "\n",
       "    .dataframe tbody tr th {\n",
       "        vertical-align: top;\n",
       "    }\n",
       "\n",
       "    .dataframe thead th {\n",
       "        text-align: right;\n",
       "    }\n",
       "</style>\n",
       "<table border=\"1\" class=\"dataframe\">\n",
       "  <thead>\n",
       "    <tr style=\"text-align: right;\">\n",
       "      <th></th>\n",
       "      <th>InvoiceNo</th>\n",
       "      <th>StockCode</th>\n",
       "      <th>Description</th>\n",
       "      <th>Quantity</th>\n",
       "      <th>InvoiceDate</th>\n",
       "      <th>UnitPrice</th>\n",
       "      <th>CustomerID</th>\n",
       "      <th>Country</th>\n",
       "      <th>AmountCancelled</th>\n",
       "      <th>TotalPrice</th>\n",
       "    </tr>\n",
       "  </thead>\n",
       "  <tbody>\n",
       "    <tr>\n",
       "      <th>61619</th>\n",
       "      <td>541431</td>\n",
       "      <td>23166</td>\n",
       "      <td>MEDIUM CERAMIC TOP STORAGE JAR</td>\n",
       "      <td>74215</td>\n",
       "      <td>2011-01-18 10:01:00</td>\n",
       "      <td>1.04</td>\n",
       "      <td>12346</td>\n",
       "      <td>United Kingdom</td>\n",
       "      <td>74215</td>\n",
       "      <td>0.00</td>\n",
       "    </tr>\n",
       "    <tr>\n",
       "      <th>14945</th>\n",
       "      <td>537626</td>\n",
       "      <td>22774</td>\n",
       "      <td>RED DRAWER KNOB ACRYLIC EDWARDIAN</td>\n",
       "      <td>12</td>\n",
       "      <td>2010-12-07 14:57:00</td>\n",
       "      <td>1.25</td>\n",
       "      <td>12347</td>\n",
       "      <td>Iceland</td>\n",
       "      <td>0</td>\n",
       "      <td>15.00</td>\n",
       "    </tr>\n",
       "    <tr>\n",
       "      <th>428987</th>\n",
       "      <td>573511</td>\n",
       "      <td>23422</td>\n",
       "      <td>PANTRY HOOK BALLOON WHISK</td>\n",
       "      <td>12</td>\n",
       "      <td>2011-10-31 12:25:00</td>\n",
       "      <td>2.08</td>\n",
       "      <td>12347</td>\n",
       "      <td>Iceland</td>\n",
       "      <td>0</td>\n",
       "      <td>24.96</td>\n",
       "    </tr>\n",
       "    <tr>\n",
       "      <th>428988</th>\n",
       "      <td>573511</td>\n",
       "      <td>23420</td>\n",
       "      <td>PANTRY HOOK TEA STRAINER</td>\n",
       "      <td>12</td>\n",
       "      <td>2011-10-31 12:25:00</td>\n",
       "      <td>2.08</td>\n",
       "      <td>12347</td>\n",
       "      <td>Iceland</td>\n",
       "      <td>0</td>\n",
       "      <td>24.96</td>\n",
       "    </tr>\n",
       "    <tr>\n",
       "      <th>428989</th>\n",
       "      <td>573511</td>\n",
       "      <td>22699</td>\n",
       "      <td>ROSES REGENCY TEACUP AND SAUCER</td>\n",
       "      <td>18</td>\n",
       "      <td>2011-10-31 12:25:00</td>\n",
       "      <td>2.95</td>\n",
       "      <td>12347</td>\n",
       "      <td>Iceland</td>\n",
       "      <td>0</td>\n",
       "      <td>53.10</td>\n",
       "    </tr>\n",
       "  </tbody>\n",
       "</table>\n",
       "</div>"
      ],
      "text/plain": [
       "       InvoiceNo StockCode                        Description  Quantity  \\\n",
       "61619     541431     23166     MEDIUM CERAMIC TOP STORAGE JAR     74215   \n",
       "14945     537626     22774  RED DRAWER KNOB ACRYLIC EDWARDIAN        12   \n",
       "428987    573511     23422         PANTRY HOOK BALLOON WHISK         12   \n",
       "428988    573511     23420          PANTRY HOOK TEA STRAINER         12   \n",
       "428989    573511     22699   ROSES REGENCY TEACUP AND SAUCER         18   \n",
       "\n",
       "               InvoiceDate  UnitPrice CustomerID         Country  \\\n",
       "61619  2011-01-18 10:01:00       1.04      12346  United Kingdom   \n",
       "14945  2010-12-07 14:57:00       1.25      12347         Iceland   \n",
       "428987 2011-10-31 12:25:00       2.08      12347         Iceland   \n",
       "428988 2011-10-31 12:25:00       2.08      12347         Iceland   \n",
       "428989 2011-10-31 12:25:00       2.95      12347         Iceland   \n",
       "\n",
       "        AmountCancelled  TotalPrice  \n",
       "61619             74215        0.00  \n",
       "14945                 0       15.00  \n",
       "428987                0       24.96  \n",
       "428988                0       24.96  \n",
       "428989                0       53.10  "
      ]
     },
     "execution_count": 156,
     "metadata": {},
     "output_type": "execute_result"
    }
   ],
   "source": [
    "# Calculate a total price for each invoice and subtract the cancelled amount if one exists\n",
    "\n",
    "df_mkdataclean['TotalPrice'] = df_mkdataclean['UnitPrice'] * (df_mkdataclean['Quantity'] - df_mkdataclean['AmountCancelled'])\n",
    "df_mkdataclean.sort_values('CustomerID').head()[:5]"
   ]
  },
  {
   "cell_type": "code",
   "execution_count": 157,
   "metadata": {},
   "outputs": [
    {
     "name": "stdout",
     "output_type": "stream",
     "text": [
      "18636\n"
     ]
    }
   ],
   "source": [
    "# Produce a df with the sum of invoice prices by customerid and invoiceno \n",
    "tip = df_mkdataclean.groupby(by=['CustomerID', 'InvoiceNo'], as_index=False)['TotalPrice'].sum()\n",
    "tot_inv_price = tip.rename(columns = {'TotalPrice':'Total Invoice Price'})\n",
    "\n",
    "# Create another date field as int64 in order to average up the total price\n",
    "df_mkdataclean['InvoiceDate_int64'] = df_mkdataclean['InvoiceDate'].astype('int64')\n",
    "\n",
    "invdt_mean = df_mkdataclean.groupby(by=['CustomerID', 'InvoiceNo'], as_index=False)['InvoiceDate_int64'].mean()\n",
    "\n",
    "# Add the InvoiceDate back to datetime format\n",
    "df_mkdataclean['InvoiceDate_dt']=pd.to_datetime(df_mkdataclean['InvoiceDate_int64'])\n",
    "\n",
    "# Drop fields no longer needed\n",
    "df_mkdataclean.drop('InvoiceDate_int64', axis = 1, inplace = True)\n",
    "#df_mkdataclean.drop('AmountCancelled', axis = 1, inplace = True)\n",
    "\n",
    "\n",
    "print(len(tot_inv_price))\n"
   ]
  },
  {
   "cell_type": "code",
   "execution_count": 160,
   "metadata": {},
   "outputs": [
    {
     "data": {
      "text/plain": [
       "CustomerID\n",
       "12347    4310.00\n",
       "12348    1797.24\n",
       "12349    1757.55\n",
       "12350     334.40\n",
       "12352    2385.71\n",
       "12353      89.00\n",
       "12354    1079.40\n",
       "12355     459.40\n",
       "12356    2811.43\n",
       "12357    6207.67\n",
       "Name: Total Invoice Price, dtype: float64"
      ]
     },
     "execution_count": 160,
     "metadata": {},
     "output_type": "execute_result"
    }
   ],
   "source": [
    "# Group the transactions by CustomerID to get the total price of invoice\n",
    "no_of_transactions = tot_inv_price.groupby(by=['CustomerID'])['Total Invoice Price'].sum()\n",
    "\n",
    "no_of_transactions[:10]\n"
   ]
  },
  {
   "cell_type": "code",
   "execution_count": 161,
   "metadata": {},
   "outputs": [
    {
     "name": "stdout",
     "output_type": "stream",
     "text": [
      "Number of Customers:  4339\n",
      "Number of Products:  3666\n",
      "Number of Transactions:  18636\n"
     ]
    }
   ],
   "source": [
    "# Explore the Customers, transactions and products purchased after cleaning dataframe\n",
    "\n",
    "num_cust = df_mkdataclean[['CustomerID']].groupby(['CustomerID'])\n",
    "num_cust = num_cust['CustomerID'].count()\n",
    "\n",
    "num_prod = df_mkdataclean[['StockCode']].groupby(['StockCode'])\n",
    "num_prod = num_prod['StockCode'].count()\n",
    "\n",
    "num_inv = df_mkdataclean[['InvoiceNo']].groupby(['InvoiceNo'])\n",
    "num_inv = num_inv['InvoiceNo'].count()\n",
    "\n",
    "print('Number of Customers: ', len(num_cust))\n",
    "print('Number of Products: ', len(num_prod))\n",
    "print('Number of Transactions: ', len(num_inv))\n"
   ]
  },
  {
   "cell_type": "code",
   "execution_count": 162,
   "metadata": {},
   "outputs": [
    {
     "data": {
      "image/png": "[encoded data removed]",
      "text/plain": [
       "<Figure size 432x288 with 1 Axes>"
      ]
     },
     "metadata": {
      "needs_background": "light"
     },
     "output_type": "display_data"
    }
   ],
   "source": [
    "objects = ('Customers', 'Products', 'Transactions')\n",
    "y_pos = np.arange(len(objects))\n",
    "performance = [4339,3666,18636]\n",
    " \n",
    "plt.bar(y_pos, performance, align='center', alpha=0.5)\n",
    "plt.xticks(y_pos, objects)\n",
    "plt.ylabel('Total Number')\n",
    "plt.title('Composition of Transactions')\n",
    " \n",
    "plt.show()"
   ]
  },
  {
   "cell_type": "code",
   "execution_count": 163,
   "metadata": {},
   "outputs": [
    {
     "name": "stdout",
     "output_type": "stream",
     "text": [
      "Total number of countries:  Country    398057\n",
      "dtype: int64\n"
     ]
    }
   ],
   "source": [
    "## Calculate the total number of countries\n",
    "\n",
    "total_cntry = df_mkdataclean[['Country']].count()\n",
    "print('Total number of countries: ', total_cntry)"
   ]
  },
  {
   "cell_type": "code",
   "execution_count": 164,
   "metadata": {},
   "outputs": [
    {
     "name": "stdout",
     "output_type": "stream",
     "text": [
      "Country\n",
      "United Kingdom          354472\n",
      "Germany                   9042\n",
      "France                    8345\n",
      "EIRE                      7239\n",
      "Spain                     2485\n",
      "Netherlands               2364\n",
      "Belgium                   2031\n",
      "Switzerland               1842\n",
      "Portugal                  1462\n",
      "Australia                 1185\n",
      "Norway                    1072\n",
      "Italy                      759\n",
      "Channel Islands            748\n",
      "Finland                    685\n",
      "Cyprus                     614\n",
      "Sweden                     451\n",
      "Austria                    398\n",
      "Denmark                    380\n",
      "Poland                     330\n",
      "Japan                      321\n",
      "Israel                     248\n",
      "Unspecified                244\n",
      "Singapore                  222\n",
      "Iceland                    182\n",
      "USA                        179\n",
      "Canada                     151\n",
      "Greece                     145\n",
      "Malta                      112\n",
      "United Arab Emirates        68\n",
      "European Community          60\n",
      "RSA                         58\n",
      "Lebanon                     45\n",
      "Lithuania                   35\n",
      "Brazil                      32\n",
      "Czech Republic              25\n",
      "Bahrain                     17\n",
      "Saudi Arabia                 9\n",
      "Name: Country, dtype: int64\n",
      "\n",
      "Number of countries:  37\n"
     ]
    }
   ],
   "source": [
    "## Explore where orders are initiated\n",
    "\n",
    "cntry_grp = df_mkdataclean[['Country']].groupby(['Country'])\n",
    "cntry_grp = cntry_grp['Country'].count()\n",
    "\n",
    "print(cntry_grp.sort_values(ascending = False))\n",
    "\n",
    "print()\n",
    "print('Number of countries: ', len(cntry_grp))\n"
   ]
  },
  {
   "cell_type": "code",
   "execution_count": 165,
   "metadata": {},
   "outputs": [
    {
     "data": {
      "image/png": "[encoded data removed]",
      "text/plain": [
       "<Figure size 432x288 with 1 Axes>"
      ]
     },
     "metadata": {
      "needs_background": "light"
     },
     "output_type": "display_data"
    }
   ],
   "source": [
    "objects = ('UK', 'Germany/France/EIRE', 'All Other')\n",
    "y_pos = np.arange(len(objects))\n",
    "performance = [354472,24626,18959]\n",
    "\n",
    "plt.bar(y_pos, performance, align='center', alpha=0.5, color='green')\n",
    "plt.xticks(y_pos, objects)\n",
    "plt.ylabel('Total')\n",
    "plt.title('Country Composition for 37 countries')\n",
    " \n",
    "plt.show()\n"
   ]
  },
  {
   "cell_type": "code",
   "execution_count": null,
   "metadata": {},
   "outputs": [],
   "source": [
    "## TEXT MINING OF DESCRIPTION FIELD"
   ]
  },
  {
   "cell_type": "code",
   "execution_count": 166,
   "metadata": {},
   "outputs": [
    {
     "data": {
      "text/plain": [
       "array(['WHITE HANGING HEART T-LIGHT HOLDER', 'WHITE METAL LANTERN',\n",
       "       'CREAM CUPID HEARTS COAT HANGER', ...,\n",
       "       'PINK CRYSTAL SKULL PHONE CHARM',\n",
       "       'CREAM HANGING HEART T-LIGHT HOLDER',\n",
       "       'PAPER CRAFT , LITTLE BIRDIE'], dtype=object)"
      ]
     },
     "execution_count": 166,
     "metadata": {},
     "output_type": "execute_result"
    }
   ],
   "source": [
    "# Get the English stemmer to stem text in description field\n",
    "stemmer = nltk.stem.SnowballStemmer(\"english\")\n",
    "\n",
    "# Put the description column in an array\n",
    "df_description = df_mkdataclean['Description'].unique()\n",
    " \n",
    "df_description"
   ]
  },
  {
   "cell_type": "code",
   "execution_count": 167,
   "metadata": {},
   "outputs": [],
   "source": [
    "#Use the snowball stemmer english version\n",
    "stemmer = nltk.stem.SnowballStemmer(\"english\")\n",
    "\n",
    "#create a variable to check for nouns only\n",
    "noun_id = lambda pos: pos[:2] == 'NN'\n",
    "\n",
    "#initialize some dictionary values\n",
    "stemmed_word_list=dict()\n",
    "num_words=dict()\n",
    "count_keywords  = dict()\n",
    "\n",
    "for wd in df_description:\n",
    "    #change to word to lower case\n",
    "    word = wd.lower()\n",
    "    \n",
    "    #tokenize the word\n",
    "    string_token = nltk.word_tokenize(word)\n",
    " \n",
    "    #attach parts of speech to the words\n",
    "    pt = pos_tag(string_token)\n",
    "\n",
    "    #only return the nouns\n",
    "    nouns = [word for (word, pt) in pt if noun_id(pt)] \n",
    "    \n",
    "       \n",
    "    for noun in nouns:\n",
    "        stemmed_words = stemmer.stem(noun)\n",
    "    \n",
    "        # count up the words encountered \n",
    "        if stemmed_words in stemmed_word_list:\n",
    "            stemmed_word_list[stemmed_words].add(noun)\n",
    "            num_words[stemmed_words] += 1\n",
    "        else:\n",
    "            stemmed_word_list[stemmed_words] = {noun}\n",
    "            num_words[stemmed_words] = 1\n"
   ]
  },
  {
   "cell_type": "code",
   "execution_count": 168,
   "metadata": {},
   "outputs": [
    {
     "name": "stdout",
     "output_type": "stream",
     "text": [
      "1479\n"
     ]
    }
   ],
   "source": [
    "# Count the number of words\n",
    "\n",
    "print(len(num_words))"
   ]
  },
  {
   "cell_type": "code",
   "execution_count": 169,
   "metadata": {},
   "outputs": [
    {
     "data": {
      "text/plain": [
       "[('heart', 267),\n",
       " ('vintag', 210),\n",
       " ('set', 206),\n",
       " ('pink', 188),\n",
       " ('bag', 164),\n",
       " ('box', 153),\n",
       " ('glass', 149),\n",
       " ('christma', 137),\n",
       " ('design', 128),\n",
       " ('candl', 121),\n",
       " ('holder', 120),\n",
       " ('flower', 120),\n",
       " ('decor', 108),\n",
       " ('metal', 99),\n",
       " ('retrospot', 90),\n",
       " ('card', 90),\n",
       " ('necklac', 85),\n",
       " ('paper', 84),\n",
       " ('blue', 80),\n",
       " ('art', 75)]"
      ]
     },
     "execution_count": 169,
     "metadata": {},
     "output_type": "execute_result"
    }
   ],
   "source": [
    "#Create a list of words in a list of key value pair and sort in descending value\n",
    "\n",
    "product_list=[]\n",
    "for key, val in num_words.items():\n",
    "    product_list.append((key,val))\n",
    "\n",
    "product_list.sort(key = lambda x:x[1], reverse = True)\n",
    "\n",
    "plist = sorted(product_list, key = lambda x:x[1], reverse = True)\n",
    "\n",
    "plist[:20]"
   ]
  },
  {
   "cell_type": "code",
   "execution_count": 170,
   "metadata": {},
   "outputs": [],
   "source": [
    "#Clean the list of words, removing insignificant words and words that occur less than 14 times\n",
    "\n",
    "#Create a list with words and number of occurences\n",
    "clean_plist=[]\n",
    "for i in plist:\n",
    "    if i[1] < 14 or len(i[0]) <= 3 or i[0] in ['pink', 'blue','ivori']: continue \n",
    "    clean_plist.append(i)"
   ]
  },
  {
   "cell_type": "code",
   "execution_count": 171,
   "metadata": {},
   "outputs": [
    {
     "name": "stdout",
     "output_type": "stream",
     "text": [
      "159\n"
     ]
    }
   ],
   "source": [
    "# Get the number of words left after more cleaning\n",
    "\n",
    "print(len(clean_plist))"
   ]
  },
  {
   "cell_type": "code",
   "execution_count": 172,
   "metadata": {
    "scrolled": true
   },
   "outputs": [
    {
     "data": {
      "image/png": "[encoded data removed]",
      "text/plain": [
       "<Figure size 504x1800 with 1 Axes>"
      ]
     },
     "metadata": {
      "needs_background": "light"
     },
     "output_type": "display_data"
    }
   ],
   "source": [
    "#Display the top 100 word occurences in a graphical form\n",
    "\n",
    "fig, ax = plt.subplots(figsize=(7, 25))\n",
    "\n",
    "#Show first 100 words in list\n",
    "ys = [i[1] for i in clean_plist[:100]]\n",
    "xs = [k for k,i in enumerate(clean_plist[:100])]\n",
    "xlbl = [i[0] for i in plist[:100]]\n",
    "\n",
    "plt.yticks(xs, xlbl, fontsize = 12)\n",
    "\n",
    "ax.barh(xs, ys, color = 'green', align = 'center')\n",
    "ax = plt.gca().invert_yaxis()\n",
    "\n",
    "plt.title(\"Top 100 Word Occurrences\",fontsize = 20)\n",
    "plt.show()\n"
   ]
  },
  {
   "cell_type": "code",
   "execution_count": 33,
   "metadata": {},
   "outputs": [],
   "source": [
    "## CLUSTERING IDENTIFIED WORDS INTO CATEGORIES"
   ]
  },
  {
   "cell_type": "code",
   "execution_count": 173,
   "metadata": {},
   "outputs": [
    {
     "name": "stdout",
     "output_type": "stream",
     "text": [
      "['WHITE HANGING HEART T-LIGHT HOLDER' 'WHITE METAL LANTERN'\n",
      " 'CREAM CUPID HEARTS COAT HANGER' 'KNITTED UNION FLAG HOT WATER BOTTLE'\n",
      " 'RED WOOLLY HOTTIE WHITE HEART.']\n"
     ]
    }
   ],
   "source": [
    "# Get unique descriptions\n",
    "plist_words = df_mkdataclean['Description'].unique()\n",
    "print(plist_words[0:5])"
   ]
  },
  {
   "cell_type": "code",
   "execution_count": 174,
   "metadata": {},
   "outputs": [
    {
     "name": "stdout",
     "output_type": "stream",
     "text": [
      "   heart  vintag  glass  christma  design  candl  holder  flower  decor  \\\n",
      "0      1       0      0         0       0      0       1       0      0   \n",
      "1      0       0      0         0       0      0       0       0      0   \n",
      "2      1       0      0         0       0      0       0       0      0   \n",
      "3      0       0      0         0       0      0       0       0      0   \n",
      "4      1       0      0         0       0      0       0       0      0   \n",
      "5      0       0      0         0       0      0       0       0      0   \n",
      "6      0       0      1         0       0      0       1       0      0   \n",
      "7      0       0      0         0       0      0       0       0      0   \n",
      "8      0       0      0         0       0      0       0       0      0   \n",
      "9      0       0      0         0       0      0       0       0      0   \n",
      "\n",
      "   metal  ...    green  pictur  wooden  piec  bathroom  girl  fruit  child  \\\n",
      "0      0  ...        0       0       0     0         0     0      0      0   \n",
      "1      1  ...        0       0       0     0         0     0      0      0   \n",
      "2      0  ...        0       0       0     0         0     0      0      0   \n",
      "3      0  ...        0       0       0     0         0     0      0      0   \n",
      "4      0  ...        0       0       0     0         0     0      0      0   \n",
      "5      0  ...        0       0       0     0         0     0      0      0   \n",
      "6      0  ...        0       0       0     0         0     0      0      0   \n",
      "7      0  ...        0       0       0     0         0     0      0      0   \n",
      "8      0  ...        0       0       0     0         0     0      0      0   \n",
      "9      0  ...        0       0       0     0         0     0      0      0   \n",
      "\n",
      "   food  orbit  \n",
      "0     0      0  \n",
      "1     0      0  \n",
      "2     0      0  \n",
      "3     0      0  \n",
      "4     0      0  \n",
      "5     0      0  \n",
      "6     0      0  \n",
      "7     0      0  \n",
      "8     0      0  \n",
      "9     0      0  \n",
      "\n",
      "[10 rows x 159 columns]\n",
      "3878\n"
     ]
    }
   ],
   "source": [
    "#Create a matrix populating the existence of each work for all unique descriptions\n",
    "\n",
    "#create a dataframe with the word occurences indicator (0 or 1)\n",
    "df_word_list = pd.DataFrame()\n",
    "\n",
    "#process through the description to determine if the word exists so it can be tagged with a 1 indicator\n",
    "for key, occurence in clean_plist:\n",
    "    df_word_list.loc[:,key] = list(map(lambda x:int(key.upper() in x), plist_words))\n",
    "print(df_word_list[:10])\n",
    "\n",
    "print(len(df_word_list))"
   ]
  },
  {
   "cell_type": "code",
   "execution_count": 175,
   "metadata": {},
   "outputs": [
    {
     "name": "stdout",
     "output_type": "stream",
     "text": [
      "0<.<1       964                 \n",
      "1<.<2       1009                \n",
      "2<.<3       673                 \n",
      "3<.<5       608                 \n",
      "5<.<10      468                 \n",
      ".>10        156                 \n"
     ]
    }
   ],
   "source": [
    "## Create bins and populate the average unit price into appropriate bins\n",
    "\n",
    "unitbins = [0, 1, 2, 3, 5, 10]\n",
    "bin_len = len(unitbins)\n",
    "\n",
    "# Create an empty list called bin_col\n",
    "bin_col = []\n",
    "\n",
    "# Create the number of bin columns\n",
    "for i in range(len(unitbins)):\n",
    "    if i == len(unitbins)-1:\n",
    "        col = '.>{}'.format(unitbins[i])\n",
    "    else:\n",
    "        col = '{}<.<{}'.format(unitbins[i],unitbins[i+1])\n",
    "    bin_col.append(col)\n",
    "    df_word_list.loc[:, col] = 0\n",
    "\n",
    "# Populate the appropriate bin where the average unit price exists\n",
    "for i, prod in enumerate(plist_words):\n",
    "    avgprc = df_mkdataclean[ df_mkdataclean['Description'] == prod]['UnitPrice'].mean()\n",
    "    j = 0\n",
    "    while avgprc > unitbins[j]:\n",
    "        j+=1\n",
    "        if j == len(unitbins): break\n",
    "    df_word_list.loc[i, bin_col[j-1]] = 1\n",
    "\n",
    "# Check the number of records in each bin\n",
    "for i in range(len(unitbins)):\n",
    "    if i == len(unitbins)-1:\n",
    "        col = '.>{}'.format(unitbins[i])\n",
    "    else:\n",
    "        col = '{}<.<{}'.format(unitbins[i],unitbins[i+1]) \n",
    "        \n",
    "    print(\"{:<10}  {:<20}\".format(col, df_word_list.loc[:, col].sum()))"
   ]
  },
  {
   "cell_type": "code",
   "execution_count": 176,
   "metadata": {},
   "outputs": [
    {
     "name": "stdout",
     "output_type": "stream",
     "text": [
      "Number of Clusters =  2 the silhouette score =  0.0897635923533954\n",
      "Number of Clusters =  3 the silhouette score =  0.13438190427997254\n",
      "Number of Clusters =  4 the silhouette score =  0.1669309589411563\n",
      "Number of Clusters =  5 the silhouette score =  0.1695510833881162\n",
      "Number of Clusters =  6 the silhouette score =  0.19794825545406594\n",
      "Number of Clusters =  7 the silhouette score =  0.17712702068368685\n",
      "Number of Clusters =  8 the silhouette score =  0.1719243288539724\n",
      "Number of Clusters =  9 the silhouette score =  0.17355923670690146\n"
     ]
    }
   ],
   "source": [
    "#Produce a silhouette score to see cluster separation\n",
    "\n",
    "scores = []\n",
    "matrix = df_word_list.values\n",
    "range_values = np.arange(2,10)\n",
    "\n",
    "for i in range_values:\n",
    "    kmeans = KMeans(init='k-means++', n_clusters = i, n_init=10)\n",
    "    kmeans.fit(matrix)\n",
    "    clusters = kmeans.predict(matrix)\n",
    "    \n",
    "    #define score for each datapoint (score=(x-y)/max(x/y))\n",
    "    #x is the avg distance between current data point and all other datapoints in the same cluster\n",
    "    #y is the avg distance between the current data point and all the datapoints in the next cluster\n",
    "    score = metrics.silhouette_score(matrix, kmeans.labels_, metric='euclidean', sample_size = len(matrix))\n",
    "    print (\"Number of Clusters = \", i, \"the silhouette score = \", score)\n",
    "    scores.append(score)\n"
   ]
  },
  {
   "cell_type": "code",
   "execution_count": 177,
   "metadata": {},
   "outputs": [
    {
     "data": {
      "text/plain": [
       "Text(0.5, 1.0, 'Silhouette score vs number of clusters')"
      ]
     },
     "execution_count": 177,
     "metadata": {},
     "output_type": "execute_result"
    },
    {
     "data": {
      "image/png": "[encoded data removed]",
      "text/plain": [
       "<Figure size 432x288 with 1 Axes>"
      ]
     },
     "metadata": {
      "needs_background": "light"
     },
     "output_type": "display_data"
    }
   ],
   "source": [
    "#Plot the clusters with the silhouette scores\n",
    "\n",
    "plt.figure()\n",
    "plt.bar(range_values, scores, width=0.6, color='blue', align='center')\n",
    "plt.title('Silhouette score vs number of clusters')\n"
   ]
  },
  {
   "cell_type": "code",
   "execution_count": 178,
   "metadata": {},
   "outputs": [
    {
     "name": "stdout",
     "output_type": "stream",
     "text": [
      "For n_clusters = 6 The average silhouette_score is : 0.1612125251236574\n",
      "For n_clusters = 6 The average silhouette_score is : 0.18783642667541905\n",
      "For n_clusters = 6 The average silhouette_score is : 0.19294867573791777\n",
      "For n_clusters = 6 The average silhouette_score is : 0.18781352886411967\n",
      "For n_clusters = 6 The average silhouette_score is : 0.19794825545406589\n"
     ]
    }
   ],
   "source": [
    "# Get the average silhouette score at 6 cluster\n",
    "\n",
    "n_clusters = 6\n",
    "silhouette_avg = -1\n",
    "while silhouette_avg <0.1975:\n",
    "    kmeans = KMeans(init='k-means++', n_clusters = n_clusters, n_init=10)\n",
    "    kmeans.fit(matrix)\n",
    "    clusters = kmeans.predict(matrix)\n",
    "    silhouette_avg = silhouette_score(matrix, clusters)\n",
    "    \n",
    "    #km = kmodes.KModes(n_clusters = n_clusters, init='Huang', n_init=2, verbose=0)\n",
    "    #clusters = km.fit_predict(matrix)\n",
    "    #silhouette_avg = silhouette_score(matrix, clusters)\n",
    "    print(\"For n_clusters =\", n_clusters, \"The average silhouette_score is :\", silhouette_avg)"
   ]
  },
  {
   "cell_type": "code",
   "execution_count": 179,
   "metadata": {},
   "outputs": [
    {
     "data": {
      "text/plain": [
       "0    1009\n",
       "1     964\n",
       "2     156\n",
       "3     673\n",
       "4     608\n",
       "5     468\n",
       "dtype: int64"
      ]
     },
     "execution_count": 179,
     "metadata": {},
     "output_type": "execute_result"
    }
   ],
   "source": [
    "# View the size of the clusters six clusters\n",
    "\n",
    "pd.Series(clusters).value_counts().sort_index()\n"
   ]
  },
  {
   "cell_type": "code",
   "execution_count": 180,
   "metadata": {},
   "outputs": [
    {
     "name": "stdout",
     "output_type": "stream",
     "text": [
      "For n_clusters = 2 The average silhouette_score is : 0.0897635923533955\n",
      "For n_clusters = 3 The average silhouette_score is : 0.1267431004061146\n",
      "For n_clusters = 4 The average silhouette_score is : 0.16693095894115667\n",
      "For n_clusters = 5 The average silhouette_score is : 0.1722455113254745\n"
     ]
    },
    {
     "data": {
      "image/png": "[encoded data removed]",
      "text/plain": [
       "<Figure size 1296x504 with 2 Axes>"
      ]
     },
     "metadata": {
      "needs_background": "light"
     },
     "output_type": "display_data"
    },
    {
     "data": {
      "image/png": "[encoded data removed]",
      "text/plain": [
       "<Figure size 1296x504 with 2 Axes>"
      ]
     },
     "metadata": {
      "needs_background": "light"
     },
     "output_type": "display_data"
    },
    {
     "data": {
      "image/png": "[encoded data removed]",
      "text/plain": [
       "<Figure size 1296x504 with 2 Axes>"
      ]
     },
     "metadata": {
      "needs_background": "light"
     },
     "output_type": "display_data"
    },
    {
     "data": {
      "image/png": "[encoded data removed]",
      "text/plain": [
       "<Figure size 1296x504 with 2 Axes>"
      ]
     },
     "metadata": {
      "needs_background": "light"
     },
     "output_type": "display_data"
    }
   ],
   "source": [
    "##Used silhouette code from \n",
    "## https://scikit-learn.org/stable/auto_examples/cluster/plot_kmeans_silhouette_analysis.html\n",
    "\n",
    "range_n_clusters = [2, 3, 4, 5]\n",
    "\n",
    "for n_clusters in range_n_clusters:\n",
    "    # Create a subplot with 1 row and 2 columns\n",
    "    fig, (ax1, ax2) = plt.subplots(1, 2)\n",
    "    fig.set_size_inches(18, 7)\n",
    "\n",
    "    # The 1st subplot is the silhouette plot\n",
    "    # The silhouette coefficient can range from -1, 1 but in this example all\n",
    "    # lie within [-0.1, 1]\n",
    "    ax1.set_xlim([-0.1, 1])\n",
    "    # The (n_clusters+1)*10 is for inserting blank space between silhouette\n",
    "    # plots of individual clusters, to demarcate them clearly.\n",
    "    ax1.set_ylim([0, len(matrix) + (n_clusters + 1) * 10])\n",
    "\n",
    "    # Initialize the clusterer with n_clusters value and a random generator\n",
    "    # seed of 10 for reproducibility.\n",
    "    clusterer = KMeans(n_clusters=n_clusters, random_state=10)\n",
    "    cluster_labels = clusterer.fit_predict(matrix)\n",
    "\n",
    "    # The silhouette_score gives the average value for all the samples.\n",
    "    # This gives a perspective into the density and separation of the formed\n",
    "    # clusters\n",
    "    silhouette_avg = silhouette_score(matrix, cluster_labels)\n",
    "    print(\"For n_clusters =\", n_clusters,\n",
    "          \"The average silhouette_score is :\", silhouette_avg)\n",
    "\n",
    "    # Compute the silhouette scores for each sample\n",
    "    sample_silhouette_values = silhouette_samples(matrix, cluster_labels)\n",
    "\n",
    "    y_lower = 10\n",
    "    for i in range(n_clusters):\n",
    "        # Aggregate the silhouette scores for samples belonging to\n",
    "        # cluster i, and sort them\n",
    "        ith_cluster_silhouette_values = \\\n",
    "            sample_silhouette_values[cluster_labels == i]\n",
    "\n",
    "        ith_cluster_silhouette_values.sort()\n",
    "\n",
    "        size_cluster_i = ith_cluster_silhouette_values.shape[0]\n",
    "        y_upper = y_lower + size_cluster_i\n",
    "\n",
    "        color = cm.nipy_spectral(float(i) / n_clusters)\n",
    "        ax1.fill_betweenx(np.arange(y_lower, y_upper),\n",
    "                          0, ith_cluster_silhouette_values,\n",
    "                          facecolor=color, edgecolor=color, alpha=0.7)\n",
    "\n",
    "        # Label the silhouette plots with their cluster numbers at the middle\n",
    "        ax1.text(-0.05, y_lower + 0.5 * size_cluster_i, str(i))\n",
    "\n",
    "        # Compute the new y_lower for next plot\n",
    "        y_lower = y_upper + 10  # 10 for the 0 samples\n",
    "\n",
    "    ax1.set_title(\"The silhouette plot for the various clusters.\")\n",
    "    ax1.set_xlabel(\"The silhouette coefficient values\")\n",
    "    ax1.set_ylabel(\"Cluster label\")\n",
    "\n",
    "    # The vertical line for average silhouette score of all the values\n",
    "    ax1.axvline(x=silhouette_avg, color=\"red\", linestyle=\"--\")\n",
    "\n",
    "    ax1.set_yticks([])  # Clear the yaxis labels / ticks\n",
    "    ax1.set_xticks([-0.1, 0, 0.2, 0.4, 0.6, 0.8, 1])\n",
    "\n",
    "    # 2nd Plot showing the actual clusters formed\n",
    "    colors = cm.nipy_spectral(cluster_labels.astype(float) / n_clusters)\n",
    "    ax2.scatter(matrix[:, 0], matrix[:, 1], marker='.', s=30, lw=0, alpha=0.7,\n",
    "                c=colors, edgecolor='k')\n",
    "\n",
    "    # Labeling the clusters\n",
    "    centers = clusterer.cluster_centers_\n",
    "    # Draw white circles at cluster centers\n",
    "    ax2.scatter(centers[:, 0], centers[:, 1], marker='o',\n",
    "                c=\"white\", alpha=1, s=200, edgecolor='k')\n",
    "\n",
    "    for i, c in enumerate(centers):\n",
    "        ax2.scatter(c[0], c[1], marker='$%d$' % i, alpha=1,\n",
    "                    s=50, edgecolor='k')\n",
    "\n",
    "    ax2.set_title(\"The visualization of the clustered data.\")\n",
    "    ax2.set_xlabel(\"Feature space for the 1st feature\")\n",
    "    ax2.set_ylabel(\"Feature space for the 2nd feature\")\n",
    "\n",
    "    plt.suptitle((\"Silhouette analysis for KMeans clustering on sample data \"\n",
    "                  \"with n_clusters = %d\" % n_clusters),\n",
    "                 fontsize=14, fontweight='bold')\n",
    "\n",
    "plt.show()"
   ]
  },
  {
   "cell_type": "code",
   "execution_count": null,
   "metadata": {},
   "outputs": [],
   "source": []
  },
  {
   "cell_type": "code",
   "execution_count": 47,
   "metadata": {},
   "outputs": [],
   "source": [
    "##CREATE CUSTOMER CATEGORIES"
   ]
  },
  {
   "cell_type": "code",
   "execution_count": 184,
   "metadata": {},
   "outputs": [
    {
     "name": "stdout",
     "output_type": "stream",
     "text": [
      "['WHITE HANGING HEART T-LIGHT HOLDER' 'WHITE METAL LANTERN'\n",
      " 'CREAM CUPID HEARTS COAT HANGER' ... 'PINK CRYSTAL SKULL PHONE CHARM'\n",
      " 'CREAM HANGING HEART T-LIGHT HOLDER' 'PAPER CRAFT , LITTLE BIRDIE']\n"
     ]
    }
   ],
   "source": [
    "print(plist_words)"
   ]
  },
  {
   "cell_type": "code",
   "execution_count": 185,
   "metadata": {},
   "outputs": [
    {
     "data": {
      "text/html": [
       "<div>\n",
       "<style scoped>\n",
       "    .dataframe tbody tr th:only-of-type {\n",
       "        vertical-align: middle;\n",
       "    }\n",
       "\n",
       "    .dataframe tbody tr th {\n",
       "        vertical-align: top;\n",
       "    }\n",
       "\n",
       "    .dataframe thead th {\n",
       "        text-align: right;\n",
       "    }\n",
       "</style>\n",
       "<table border=\"1\" class=\"dataframe\">\n",
       "  <thead>\n",
       "    <tr style=\"text-align: right;\">\n",
       "      <th></th>\n",
       "      <th>Description</th>\n",
       "      <th>prod_categ</th>\n",
       "    </tr>\n",
       "  </thead>\n",
       "  <tbody>\n",
       "    <tr>\n",
       "      <th>0</th>\n",
       "      <td>WHITE HANGING HEART T-LIGHT HOLDER</td>\n",
       "      <td>3</td>\n",
       "    </tr>\n",
       "    <tr>\n",
       "      <th>1</th>\n",
       "      <td>WHITE METAL LANTERN</td>\n",
       "      <td>4</td>\n",
       "    </tr>\n",
       "    <tr>\n",
       "      <th>2</th>\n",
       "      <td>CREAM CUPID HEARTS COAT HANGER</td>\n",
       "      <td>4</td>\n",
       "    </tr>\n",
       "    <tr>\n",
       "      <th>3</th>\n",
       "      <td>KNITTED UNION FLAG HOT WATER BOTTLE</td>\n",
       "      <td>4</td>\n",
       "    </tr>\n",
       "    <tr>\n",
       "      <th>4</th>\n",
       "      <td>RED WOOLLY HOTTIE WHITE HEART.</td>\n",
       "      <td>4</td>\n",
       "    </tr>\n",
       "    <tr>\n",
       "      <th>5</th>\n",
       "      <td>SET 7 BABUSHKA NESTING BOXES</td>\n",
       "      <td>5</td>\n",
       "    </tr>\n",
       "    <tr>\n",
       "      <th>6</th>\n",
       "      <td>GLASS STAR FROSTED T-LIGHT HOLDER</td>\n",
       "      <td>4</td>\n",
       "    </tr>\n",
       "    <tr>\n",
       "      <th>7</th>\n",
       "      <td>HAND WARMER UNION JACK</td>\n",
       "      <td>3</td>\n",
       "    </tr>\n",
       "    <tr>\n",
       "      <th>8</th>\n",
       "      <td>HAND WARMER RED POLKA DOT</td>\n",
       "      <td>0</td>\n",
       "    </tr>\n",
       "    <tr>\n",
       "      <th>9</th>\n",
       "      <td>ASSORTED COLOUR BIRD ORNAMENT</td>\n",
       "      <td>0</td>\n",
       "    </tr>\n",
       "    <tr>\n",
       "      <th>10</th>\n",
       "      <td>POPPY'S PLAYHOUSE BEDROOM</td>\n",
       "      <td>3</td>\n",
       "    </tr>\n",
       "    <tr>\n",
       "      <th>11</th>\n",
       "      <td>POPPY'S PLAYHOUSE KITCHEN</td>\n",
       "      <td>3</td>\n",
       "    </tr>\n",
       "    <tr>\n",
       "      <th>12</th>\n",
       "      <td>FELTCRAFT PRINCESS CHARLOTTE DOLL</td>\n",
       "      <td>4</td>\n",
       "    </tr>\n",
       "    <tr>\n",
       "      <th>13</th>\n",
       "      <td>IVORY KNITTED MUG COSY</td>\n",
       "      <td>0</td>\n",
       "    </tr>\n",
       "    <tr>\n",
       "      <th>14</th>\n",
       "      <td>BOX OF 6 ASSORTED COLOUR TEASPOONS</td>\n",
       "      <td>4</td>\n",
       "    </tr>\n",
       "    <tr>\n",
       "      <th>15</th>\n",
       "      <td>BOX OF VINTAGE JIGSAW BLOCKS</td>\n",
       "      <td>5</td>\n",
       "    </tr>\n",
       "    <tr>\n",
       "      <th>16</th>\n",
       "      <td>BOX OF VINTAGE ALPHABET BLOCKS</td>\n",
       "      <td>2</td>\n",
       "    </tr>\n",
       "    <tr>\n",
       "      <th>17</th>\n",
       "      <td>HOME BUILDING BLOCK WORD</td>\n",
       "      <td>5</td>\n",
       "    </tr>\n",
       "    <tr>\n",
       "      <th>18</th>\n",
       "      <td>LOVE BUILDING BLOCK WORD</td>\n",
       "      <td>5</td>\n",
       "    </tr>\n",
       "    <tr>\n",
       "      <th>19</th>\n",
       "      <td>RECIPE BOX WITH METAL HEART</td>\n",
       "      <td>5</td>\n",
       "    </tr>\n",
       "  </tbody>\n",
       "</table>\n",
       "</div>"
      ],
      "text/plain": [
       "                            Description  prod_categ\n",
       "0    WHITE HANGING HEART T-LIGHT HOLDER           3\n",
       "1                   WHITE METAL LANTERN           4\n",
       "2        CREAM CUPID HEARTS COAT HANGER           4\n",
       "3   KNITTED UNION FLAG HOT WATER BOTTLE           4\n",
       "4        RED WOOLLY HOTTIE WHITE HEART.           4\n",
       "5          SET 7 BABUSHKA NESTING BOXES           5\n",
       "6     GLASS STAR FROSTED T-LIGHT HOLDER           4\n",
       "7                HAND WARMER UNION JACK           3\n",
       "8             HAND WARMER RED POLKA DOT           0\n",
       "9         ASSORTED COLOUR BIRD ORNAMENT           0\n",
       "10           POPPY'S PLAYHOUSE BEDROOM            3\n",
       "11            POPPY'S PLAYHOUSE KITCHEN           3\n",
       "12    FELTCRAFT PRINCESS CHARLOTTE DOLL           4\n",
       "13              IVORY KNITTED MUG COSY            0\n",
       "14   BOX OF 6 ASSORTED COLOUR TEASPOONS           4\n",
       "15        BOX OF VINTAGE JIGSAW BLOCKS            5\n",
       "16       BOX OF VINTAGE ALPHABET BLOCKS           2\n",
       "17             HOME BUILDING BLOCK WORD           5\n",
       "18             LOVE BUILDING BLOCK WORD           5\n",
       "19          RECIPE BOX WITH METAL HEART           5"
      ]
     },
     "execution_count": 185,
     "metadata": {},
     "output_type": "execute_result"
    }
   ],
   "source": [
    "##add product category field to the clean data frame\n",
    "\n",
    "categ_val = dict()\n",
    "\n",
    "#combine the plist_products df with the cluster number using zip function\n",
    "for key, val in zip(plist_words,clusters):\n",
    "    categ_val[key] = val\n",
    "\n",
    "##add prod_categ to the clean df\n",
    "df_mkdataclean['prod_categ'] = df_mkdataclean.loc[:, 'Description'].map(categ_val)\n",
    "\n",
    "##show that the product category was added to the df\n",
    "df_mkdataclean[['Description','prod_categ']][:20]"
   ]
  },
  {
   "cell_type": "code",
   "execution_count": 186,
   "metadata": {},
   "outputs": [
    {
     "name": "stdout",
     "output_type": "stream",
     "text": [
      "5\n"
     ]
    }
   ],
   "source": [
    "print(max(clusters))"
   ]
  },
  {
   "cell_type": "code",
   "execution_count": 188,
   "metadata": {},
   "outputs": [
    {
     "data": {
      "text/html": [
       "<div>\n",
       "<style scoped>\n",
       "    .dataframe tbody tr th:only-of-type {\n",
       "        vertical-align: middle;\n",
       "    }\n",
       "\n",
       "    .dataframe tbody tr th {\n",
       "        vertical-align: top;\n",
       "    }\n",
       "\n",
       "    .dataframe thead th {\n",
       "        text-align: right;\n",
       "    }\n",
       "</style>\n",
       "<table border=\"1\" class=\"dataframe\">\n",
       "  <thead>\n",
       "    <tr style=\"text-align: right;\">\n",
       "      <th></th>\n",
       "      <th>Description</th>\n",
       "      <th>prod_categ</th>\n",
       "      <th>prod_cat_0</th>\n",
       "      <th>prod_cat_1</th>\n",
       "      <th>prod_cat_2</th>\n",
       "      <th>prod_cat_3</th>\n",
       "      <th>prod_cat_4</th>\n",
       "      <th>prod_cat_5</th>\n",
       "    </tr>\n",
       "  </thead>\n",
       "  <tbody>\n",
       "    <tr>\n",
       "      <th>0</th>\n",
       "      <td>WHITE HANGING HEART T-LIGHT HOLDER</td>\n",
       "      <td>3</td>\n",
       "      <td>0.00</td>\n",
       "      <td>0.0</td>\n",
       "      <td>0.0</td>\n",
       "      <td>15.3</td>\n",
       "      <td>0.00</td>\n",
       "      <td>0.0</td>\n",
       "    </tr>\n",
       "    <tr>\n",
       "      <th>1</th>\n",
       "      <td>WHITE METAL LANTERN</td>\n",
       "      <td>4</td>\n",
       "      <td>0.00</td>\n",
       "      <td>0.0</td>\n",
       "      <td>0.0</td>\n",
       "      <td>0.0</td>\n",
       "      <td>20.34</td>\n",
       "      <td>0.0</td>\n",
       "    </tr>\n",
       "    <tr>\n",
       "      <th>2</th>\n",
       "      <td>CREAM CUPID HEARTS COAT HANGER</td>\n",
       "      <td>4</td>\n",
       "      <td>0.00</td>\n",
       "      <td>0.0</td>\n",
       "      <td>0.0</td>\n",
       "      <td>0.0</td>\n",
       "      <td>22.00</td>\n",
       "      <td>0.0</td>\n",
       "    </tr>\n",
       "    <tr>\n",
       "      <th>3</th>\n",
       "      <td>KNITTED UNION FLAG HOT WATER BOTTLE</td>\n",
       "      <td>4</td>\n",
       "      <td>0.00</td>\n",
       "      <td>0.0</td>\n",
       "      <td>0.0</td>\n",
       "      <td>0.0</td>\n",
       "      <td>20.34</td>\n",
       "      <td>0.0</td>\n",
       "    </tr>\n",
       "    <tr>\n",
       "      <th>4</th>\n",
       "      <td>RED WOOLLY HOTTIE WHITE HEART.</td>\n",
       "      <td>4</td>\n",
       "      <td>0.00</td>\n",
       "      <td>0.0</td>\n",
       "      <td>0.0</td>\n",
       "      <td>0.0</td>\n",
       "      <td>20.34</td>\n",
       "      <td>0.0</td>\n",
       "    </tr>\n",
       "    <tr>\n",
       "      <th>5</th>\n",
       "      <td>SET 7 BABUSHKA NESTING BOXES</td>\n",
       "      <td>5</td>\n",
       "      <td>0.00</td>\n",
       "      <td>0.0</td>\n",
       "      <td>0.0</td>\n",
       "      <td>0.0</td>\n",
       "      <td>0.00</td>\n",
       "      <td>15.3</td>\n",
       "    </tr>\n",
       "    <tr>\n",
       "      <th>6</th>\n",
       "      <td>GLASS STAR FROSTED T-LIGHT HOLDER</td>\n",
       "      <td>4</td>\n",
       "      <td>0.00</td>\n",
       "      <td>0.0</td>\n",
       "      <td>0.0</td>\n",
       "      <td>0.0</td>\n",
       "      <td>25.50</td>\n",
       "      <td>0.0</td>\n",
       "    </tr>\n",
       "    <tr>\n",
       "      <th>7</th>\n",
       "      <td>HAND WARMER UNION JACK</td>\n",
       "      <td>3</td>\n",
       "      <td>0.00</td>\n",
       "      <td>0.0</td>\n",
       "      <td>0.0</td>\n",
       "      <td>11.1</td>\n",
       "      <td>0.00</td>\n",
       "      <td>0.0</td>\n",
       "    </tr>\n",
       "    <tr>\n",
       "      <th>8</th>\n",
       "      <td>HAND WARMER RED POLKA DOT</td>\n",
       "      <td>0</td>\n",
       "      <td>11.10</td>\n",
       "      <td>0.0</td>\n",
       "      <td>0.0</td>\n",
       "      <td>0.0</td>\n",
       "      <td>0.00</td>\n",
       "      <td>0.0</td>\n",
       "    </tr>\n",
       "    <tr>\n",
       "      <th>9</th>\n",
       "      <td>ASSORTED COLOUR BIRD ORNAMENT</td>\n",
       "      <td>0</td>\n",
       "      <td>54.08</td>\n",
       "      <td>0.0</td>\n",
       "      <td>0.0</td>\n",
       "      <td>0.0</td>\n",
       "      <td>0.00</td>\n",
       "      <td>0.0</td>\n",
       "    </tr>\n",
       "  </tbody>\n",
       "</table>\n",
       "</div>"
      ],
      "text/plain": [
       "                           Description  prod_categ  prod_cat_0  prod_cat_1  \\\n",
       "0   WHITE HANGING HEART T-LIGHT HOLDER           3        0.00         0.0   \n",
       "1                  WHITE METAL LANTERN           4        0.00         0.0   \n",
       "2       CREAM CUPID HEARTS COAT HANGER           4        0.00         0.0   \n",
       "3  KNITTED UNION FLAG HOT WATER BOTTLE           4        0.00         0.0   \n",
       "4       RED WOOLLY HOTTIE WHITE HEART.           4        0.00         0.0   \n",
       "5         SET 7 BABUSHKA NESTING BOXES           5        0.00         0.0   \n",
       "6    GLASS STAR FROSTED T-LIGHT HOLDER           4        0.00         0.0   \n",
       "7               HAND WARMER UNION JACK           3        0.00         0.0   \n",
       "8            HAND WARMER RED POLKA DOT           0       11.10         0.0   \n",
       "9        ASSORTED COLOUR BIRD ORNAMENT           0       54.08         0.0   \n",
       "\n",
       "   prod_cat_2  prod_cat_3  prod_cat_4  prod_cat_5  \n",
       "0         0.0        15.3        0.00         0.0  \n",
       "1         0.0         0.0       20.34         0.0  \n",
       "2         0.0         0.0       22.00         0.0  \n",
       "3         0.0         0.0       20.34         0.0  \n",
       "4         0.0         0.0       20.34         0.0  \n",
       "5         0.0         0.0        0.00        15.3  \n",
       "6         0.0         0.0       25.50         0.0  \n",
       "7         0.0        11.1        0.00         0.0  \n",
       "8         0.0         0.0        0.00         0.0  \n",
       "9         0.0         0.0        0.00         0.0  "
      ]
     },
     "execution_count": 188,
     "metadata": {},
     "output_type": "execute_result"
    }
   ],
   "source": [
    "## Add the sum of the product categories to the clean dataframe \n",
    "\n",
    "for i in range(6):\n",
    "    #get the approprate prod category\n",
    "    column = 'prod_cat_{}'.format(i)\n",
    "    \n",
    "    df_categdt = df_mkdataclean[df_mkdataclean['prod_categ'] == i]\n",
    "    \n",
    "    #get the total price for the invoice\n",
    "    t_price = df_categdt['TotalPrice']\n",
    "    \n",
    "    #populate price in matching column or put a 0 in column\n",
    "    t_price = t_price.apply(lambda x:x if x > 0 else 0)\n",
    "    df_mkdataclean.loc[:,column] = t_price\n",
    "    \n",
    "    #zero fill missing data\n",
    "    df_mkdataclean[column].fillna(0, inplace = True)\n",
    "\n",
    "df_mkdataclean[['Description','prod_categ','prod_cat_0','prod_cat_1','prod_cat_2','prod_cat_3','prod_cat_4','prod_cat_5']][:10]\n"
   ]
  },
  {
   "cell_type": "code",
   "execution_count": null,
   "metadata": {},
   "outputs": [],
   "source": [
    "# Produce a df with the sum of invoice prices by customerid and invoiceno \n",
    "tip = df_mkdataclean.groupby(by=['CustomerID', 'InvoiceNo'], as_index=False)['TotalPrice'].sum()\n",
    "tot_inv_price = tip.rename(columns = {'TotalPrice':'Total Invoice Price'})\n",
    "\n",
    "# Create another date field as int64 in order to average up the total price\n",
    "df_mkdataclean['InvoiceDate_int64'] = df_mkdataclean['InvoiceDate'].astype('int64')\n",
    "\n",
    "invdt_mean = df_mkdataclean.groupby(by=['CustomerID', 'InvoiceNo'], as_index=False)['InvoiceDate_int64'].mean()\n",
    "\n",
    "# Add the InvoiceDate back to datetime format\n",
    "df_mkdataclean['InvoiceDate_dt']=pd.to_datetime(df_mkdataclean['InvoiceDate_int64'])\n",
    "\n",
    "# Drop fields no longer needed\n",
    "df_mkdataclean.drop('InvoiceDate_int64', axis = 1, inplace = True)\n",
    "#df_mkdataclean.drop('AmountCancelled', axis = 1, inplace = True)\n",
    "\n",
    "\n",
    "print(len(tot_inv_price))\n"
   ]
  },
  {
   "cell_type": "code",
   "execution_count": 192,
   "metadata": {},
   "outputs": [],
   "source": [
    "# Produce a df with the sum of invoice prices by customerid and invoiceno \n",
    "tip = df_mkdataclean.groupby(by=['CustomerID', 'InvoiceNo'], as_index=False)['TotalPrice'].sum()\n",
    "tot_inv_price = tip.rename(columns = {'TotalPrice':'Total Invoice Price'})\n",
    "\n",
    "# Process through the product categories to sum by CustomeId and InvoiceNo\n",
    "for i in range(6):\n",
    "    cols = 'prod_cat_{}'.format(i) \n",
    "    sum_col = df_mkdataclean.groupby(by=['CustomerID', 'InvoiceNo'], as_index=False)[cols].sum()\n",
    "    tot_inv_price.loc[:, cols] = sum_col\n",
    "\n",
    "# Create another date field as int64 in order to average up the total price\n",
    "df_mkdataclean['InvoiceDate_int64'] = df_mkdataclean['InvoiceDate'].astype('int64')\n",
    "\n",
    "invdt_mean = df_mkdataclean.groupby(by=['CustomerID', 'InvoiceNo'], as_index=False)['InvoiceDate_int64'].mean()\n",
    "\n",
    "# Add the InvoiceDate back to datetime format\n",
    "df_mkdataclean['InvoiceDate_dt']=pd.to_datetime(df_mkdataclean['InvoiceDate_int64'])\n",
    "\n",
    "# Drop fields no longer needed\n",
    "df_mkdataclean.drop('InvoiceDate_int64', axis = 1, inplace = True)\n",
    "\n"
   ]
  },
  {
   "cell_type": "code",
   "execution_count": 193,
   "metadata": {},
   "outputs": [
    {
     "data": {
      "text/html": [
       "<div>\n",
       "<style scoped>\n",
       "    .dataframe tbody tr th:only-of-type {\n",
       "        vertical-align: middle;\n",
       "    }\n",
       "\n",
       "    .dataframe tbody tr th {\n",
       "        vertical-align: top;\n",
       "    }\n",
       "\n",
       "    .dataframe thead th {\n",
       "        text-align: right;\n",
       "    }\n",
       "</style>\n",
       "<table border=\"1\" class=\"dataframe\">\n",
       "  <thead>\n",
       "    <tr style=\"text-align: right;\">\n",
       "      <th></th>\n",
       "      <th>CustomerID</th>\n",
       "      <th>InvoiceNo</th>\n",
       "      <th>Total Invoice Price</th>\n",
       "      <th>prod_cat_0</th>\n",
       "      <th>prod_cat_1</th>\n",
       "      <th>prod_cat_2</th>\n",
       "      <th>prod_cat_3</th>\n",
       "      <th>prod_cat_4</th>\n",
       "      <th>prod_cat_5</th>\n",
       "    </tr>\n",
       "  </thead>\n",
       "  <tbody>\n",
       "    <tr>\n",
       "      <th>1</th>\n",
       "      <td>12347</td>\n",
       "      <td>537626</td>\n",
       "      <td>711.79</td>\n",
       "      <td>187.2</td>\n",
       "      <td>23.40</td>\n",
       "      <td>0.00</td>\n",
       "      <td>83.40</td>\n",
       "      <td>293.35</td>\n",
       "      <td>124.44</td>\n",
       "    </tr>\n",
       "    <tr>\n",
       "      <th>2</th>\n",
       "      <td>12347</td>\n",
       "      <td>542237</td>\n",
       "      <td>475.39</td>\n",
       "      <td>130.5</td>\n",
       "      <td>84.34</td>\n",
       "      <td>38.25</td>\n",
       "      <td>53.10</td>\n",
       "      <td>169.20</td>\n",
       "      <td>0.00</td>\n",
       "    </tr>\n",
       "    <tr>\n",
       "      <th>3</th>\n",
       "      <td>12347</td>\n",
       "      <td>549222</td>\n",
       "      <td>636.25</td>\n",
       "      <td>330.9</td>\n",
       "      <td>81.00</td>\n",
       "      <td>38.25</td>\n",
       "      <td>71.10</td>\n",
       "      <td>115.00</td>\n",
       "      <td>0.00</td>\n",
       "    </tr>\n",
       "    <tr>\n",
       "      <th>4</th>\n",
       "      <td>12347</td>\n",
       "      <td>556201</td>\n",
       "      <td>382.52</td>\n",
       "      <td>74.4</td>\n",
       "      <td>41.40</td>\n",
       "      <td>0.00</td>\n",
       "      <td>78.06</td>\n",
       "      <td>168.76</td>\n",
       "      <td>19.90</td>\n",
       "    </tr>\n",
       "    <tr>\n",
       "      <th>5</th>\n",
       "      <td>12347</td>\n",
       "      <td>562032</td>\n",
       "      <td>584.91</td>\n",
       "      <td>109.7</td>\n",
       "      <td>61.30</td>\n",
       "      <td>38.25</td>\n",
       "      <td>119.70</td>\n",
       "      <td>158.16</td>\n",
       "      <td>97.80</td>\n",
       "    </tr>\n",
       "  </tbody>\n",
       "</table>\n",
       "</div>"
      ],
      "text/plain": [
       "  CustomerID InvoiceNo  Total Invoice Price  prod_cat_0  prod_cat_1  \\\n",
       "1      12347    537626               711.79       187.2       23.40   \n",
       "2      12347    542237               475.39       130.5       84.34   \n",
       "3      12347    549222               636.25       330.9       81.00   \n",
       "4      12347    556201               382.52        74.4       41.40   \n",
       "5      12347    562032               584.91       109.7       61.30   \n",
       "\n",
       "   prod_cat_2  prod_cat_3  prod_cat_4  prod_cat_5  \n",
       "1        0.00       83.40      293.35      124.44  \n",
       "2       38.25       53.10      169.20        0.00  \n",
       "3       38.25       71.10      115.00        0.00  \n",
       "4        0.00       78.06      168.76       19.90  \n",
       "5       38.25      119.70      158.16       97.80  "
      ]
     },
     "execution_count": 193,
     "metadata": {},
     "output_type": "execute_result"
    }
   ],
   "source": [
    "# Remmove the negative transactions from the summarized data frame\n",
    "tot_inv_price = tot_inv_price[tot_inv_price['Total Invoice Price'] > 0]\n",
    "\n",
    "tot_inv_price.sort_values('CustomerID', ascending = True)[:5]"
   ]
  },
  {
   "cell_type": "code",
   "execution_count": 194,
   "metadata": {},
   "outputs": [
    {
     "data": {
      "text/html": [
       "<div>\n",
       "<style scoped>\n",
       "    .dataframe tbody tr th:only-of-type {\n",
       "        vertical-align: middle;\n",
       "    }\n",
       "\n",
       "    .dataframe tbody tr th {\n",
       "        vertical-align: top;\n",
       "    }\n",
       "\n",
       "    .dataframe thead th {\n",
       "        text-align: right;\n",
       "    }\n",
       "</style>\n",
       "<table border=\"1\" class=\"dataframe\">\n",
       "  <thead>\n",
       "    <tr style=\"text-align: right;\">\n",
       "      <th></th>\n",
       "      <th>CustomerID</th>\n",
       "      <th>count</th>\n",
       "      <th>min</th>\n",
       "      <th>max</th>\n",
       "      <th>mean</th>\n",
       "      <th>sum</th>\n",
       "      <th>prod_cat_0</th>\n",
       "      <th>prod_cat_1</th>\n",
       "      <th>prod_cat_2</th>\n",
       "      <th>prod_cat_3</th>\n",
       "      <th>prod_cat_4</th>\n",
       "      <th>prod_cat_5</th>\n",
       "    </tr>\n",
       "  </thead>\n",
       "  <tbody>\n",
       "    <tr>\n",
       "      <th>0</th>\n",
       "      <td>12347</td>\n",
       "      <td>7</td>\n",
       "      <td>224.82</td>\n",
       "      <td>1294.32</td>\n",
       "      <td>615.714286</td>\n",
       "      <td>4310.00</td>\n",
       "      <td>26.375870</td>\n",
       "      <td>11.237123</td>\n",
       "      <td>4.437355</td>\n",
       "      <td>20.805104</td>\n",
       "      <td>29.540371</td>\n",
       "      <td>7.604176</td>\n",
       "    </tr>\n",
       "    <tr>\n",
       "      <th>1</th>\n",
       "      <td>12348</td>\n",
       "      <td>4</td>\n",
       "      <td>227.44</td>\n",
       "      <td>892.80</td>\n",
       "      <td>449.310000</td>\n",
       "      <td>1797.24</td>\n",
       "      <td>41.953217</td>\n",
       "      <td>38.016069</td>\n",
       "      <td>20.030714</td>\n",
       "      <td>0.000000</td>\n",
       "      <td>0.000000</td>\n",
       "      <td>0.000000</td>\n",
       "    </tr>\n",
       "    <tr>\n",
       "      <th>2</th>\n",
       "      <td>12349</td>\n",
       "      <td>1</td>\n",
       "      <td>1757.55</td>\n",
       "      <td>1757.55</td>\n",
       "      <td>1757.550000</td>\n",
       "      <td>1757.55</td>\n",
       "      <td>26.506216</td>\n",
       "      <td>4.513101</td>\n",
       "      <td>25.632272</td>\n",
       "      <td>12.245455</td>\n",
       "      <td>10.713778</td>\n",
       "      <td>20.389178</td>\n",
       "    </tr>\n",
       "    <tr>\n",
       "      <th>3</th>\n",
       "      <td>12350</td>\n",
       "      <td>1</td>\n",
       "      <td>334.40</td>\n",
       "      <td>334.40</td>\n",
       "      <td>334.400000</td>\n",
       "      <td>334.40</td>\n",
       "      <td>48.444976</td>\n",
       "      <td>11.692584</td>\n",
       "      <td>11.961722</td>\n",
       "      <td>27.900718</td>\n",
       "      <td>0.000000</td>\n",
       "      <td>0.000000</td>\n",
       "    </tr>\n",
       "    <tr>\n",
       "      <th>4</th>\n",
       "      <td>12352</td>\n",
       "      <td>7</td>\n",
       "      <td>144.35</td>\n",
       "      <td>840.30</td>\n",
       "      <td>340.815714</td>\n",
       "      <td>2385.71</td>\n",
       "      <td>15.705178</td>\n",
       "      <td>1.299404</td>\n",
       "      <td>49.630927</td>\n",
       "      <td>4.071325</td>\n",
       "      <td>14.601523</td>\n",
       "      <td>14.691643</td>\n",
       "    </tr>\n",
       "  </tbody>\n",
       "</table>\n",
       "</div>"
      ],
      "text/plain": [
       "  CustomerID  count      min      max         mean      sum  prod_cat_0  \\\n",
       "0      12347      7   224.82  1294.32   615.714286  4310.00   26.375870   \n",
       "1      12348      4   227.44   892.80   449.310000  1797.24   41.953217   \n",
       "2      12349      1  1757.55  1757.55  1757.550000  1757.55   26.506216   \n",
       "3      12350      1   334.40   334.40   334.400000   334.40   48.444976   \n",
       "4      12352      7   144.35   840.30   340.815714  2385.71   15.705178   \n",
       "\n",
       "   prod_cat_1  prod_cat_2  prod_cat_3  prod_cat_4  prod_cat_5  \n",
       "0   11.237123    4.437355   20.805104   29.540371    7.604176  \n",
       "1   38.016069   20.030714    0.000000    0.000000    0.000000  \n",
       "2    4.513101   25.632272   12.245455   10.713778   20.389178  \n",
       "3   11.692584   11.961722   27.900718    0.000000    0.000000  \n",
       "4    1.299404   49.630927    4.071325   14.601523   14.691643  "
      ]
     },
     "execution_count": 194,
     "metadata": {},
     "output_type": "execute_result"
    }
   ],
   "source": [
    "# Add summary statistics for each record (min, max, mean, count and sum)\n",
    "\n",
    "tran_summary=tot_inv_price.groupby(by=['CustomerID'])['Total Invoice Price'].agg(['count','min',\n",
    "                                                                                   'max','mean','sum'])\n",
    "# Add the summary statistics to the appropriate product category\n",
    "for i in range(6):\n",
    "    col = 'prod_cat_{}'.format(i)\n",
    "    tran_summary.loc[:,col] = tot_inv_price.groupby(by=['CustomerID'])[col].sum() /\\\n",
    "                                            tran_summary['sum']*100\n",
    "\n",
    "tran_summary.reset_index(drop = False, inplace = True)\n",
    "\n",
    "# Sum the data up by Customer Id\n",
    "tot_inv_price.groupby(by=['CustomerID'])['prod_cat_0'].sum()\n",
    "tot_inv_price\n",
    "\n",
    "# Sort the transactions by CustomerID\n",
    "tran_summary.sort_values('CustomerID', ascending = True)[:5]"
   ]
  },
  {
   "cell_type": "code",
   "execution_count": 59,
   "metadata": {},
   "outputs": [],
   "source": [
    "#Calculate number of one time buyers to try to retain them"
   ]
  },
  {
   "cell_type": "code",
   "execution_count": 195,
   "metadata": {},
   "outputs": [],
   "source": [
    "## Create a matrix with scaled features that are imporant to keep for modeling\n",
    "\n",
    "imp_features = ['count','min','max','mean','prod_cat_0','prod_cat_1','prod_cat_2','prod_cat_3','prod_cat_4', 'prod_cat_5']\n",
    "\n",
    "\n",
    "customers = tran_summary.copy(deep = True)\n",
    "s_matrix = customers[imp_features].values\n",
    "\n",
    "## standaridize the features\n",
    "scaler = StandardScaler()\n",
    "scaler.fit(s_matrix)\n",
    "scaled_matrix = scaler.transform(s_matrix)"
   ]
  },
  {
   "cell_type": "code",
   "execution_count": 196,
   "metadata": {},
   "outputs": [
    {
     "name": "stdout",
     "output_type": "stream",
     "text": [
      "Number of Clusters =  2 the silhouette score =  0.6811335103641107\n",
      "Number of Clusters =  3 the silhouette score =  0.14702472201514147\n",
      "Number of Clusters =  4 the silhouette score =  0.13152130962155972\n",
      "Number of Clusters =  5 the silhouette score =  0.1563187845945334\n",
      "Number of Clusters =  6 the silhouette score =  0.15799672799133216\n",
      "Number of Clusters =  7 the silhouette score =  0.16089514813497754\n",
      "Number of Clusters =  8 the silhouette score =  0.1703414270246077\n",
      "Number of Clusters =  9 the silhouette score =  0.1942275379328838\n",
      "Number of Clusters =  10 the silhouette score =  0.2013193124228809\n",
      "Number of Clusters =  11 the silhouette score =  0.20189156740794087\n",
      "Number of Clusters =  12 the silhouette score =  0.20837142791738095\n",
      "Number of Clusters =  13 the silhouette score =  0.17467445704039472\n",
      "Number of Clusters =  14 the silhouette score =  0.17709311670003405\n"
     ]
    }
   ],
   "source": [
    "#Produce a silhouette score to see how well the clusters are separated\n",
    "\n",
    "client_scores = []\n",
    "matrix = scaled_matrix\n",
    "range_values = np.arange(2,15)\n",
    "\n",
    "for i in range_values:\n",
    "    kmeans = KMeans(init='k-means++', n_clusters = i, n_init=30)\n",
    "    kmeans.fit(matrix)\n",
    "    client_clusters = kmeans.predict(matrix)\n",
    "    \n",
    "    #define score for each datapoint (score=(x-y)/max(x/y))\n",
    "    #x is the avg distance between current data point and all other datapoints in the same cluster\n",
    "    #y is the avg distance between the current data point and all the datapoints in the next cluster\n",
    "    score = metrics.silhouette_score(matrix, kmeans.labels_, metric='euclidean', sample_size = len(matrix))\n",
    "    print (\"Number of Clusters = \", i, \"the silhouette score = \", score)\n",
    "    scores.append(score)"
   ]
  },
  {
   "cell_type": "code",
   "execution_count": 197,
   "metadata": {},
   "outputs": [
    {
     "name": "stdout",
     "output_type": "stream",
     "text": [
      "For n_clusters = 7 The average silhouette_score is : 0.16110440563693032\n",
      "For n_clusters = 8 The average silhouette_score is : 0.17042068807459101\n",
      "For n_clusters = 9 The average silhouette_score is : 0.1809860701855873\n",
      "For n_clusters = 10 The average silhouette_score is : 0.20118317517450224\n",
      "For n_clusters = 11 The average silhouette_score is : 0.2038009950726596\n"
     ]
    },
    {
     "data": {
      "image/png": "[encoded data removed]",
      "text/plain": [
       "<Figure size 1296x504 with 2 Axes>"
      ]
     },
     "metadata": {
      "needs_background": "light"
     },
     "output_type": "display_data"
    },
    {
     "data": {
      "image/png": "[encoded data removed]",
      "text/plain": [
       "<Figure size 1296x504 with 2 Axes>"
      ]
     },
     "metadata": {
      "needs_background": "light"
     },
     "output_type": "display_data"
    },
    {
     "data": {
      "image/png": "[encoded data removed]",
      "text/plain": [
       "<Figure size 1296x504 with 2 Axes>"
      ]
     },
     "metadata": {
      "needs_background": "light"
     },
     "output_type": "display_data"
    },
    {
     "data": {
      "image/png": "[encoded data removed]",
      "text/plain": [
       "<Figure size 1296x504 with 2 Axes>"
      ]
     },
     "metadata": {
      "needs_background": "light"
     },
     "output_type": "display_data"
    },
    {
     "data": {
      "image/png": "[encoded data removed]",
      "text/plain": [
       "<Figure size 1296x504 with 2 Axes>"
      ]
     },
     "metadata": {
      "needs_background": "light"
     },
     "output_type": "display_data"
    }
   ],
   "source": [
    "##Used silhouette code from \n",
    "## https://scikit-learn.org/stable/auto_examples/cluster/plot_kmeans_silhouette_analysis.html\n",
    "\n",
    "scale_range_n_clusters = [7, 8, 9, 10, 11]\n",
    "\n",
    "for n_clusters in scale_range_n_clusters:\n",
    "    # Create a subplot with 1 row and 2 columns\n",
    "    fig, (ax1, ax2) = plt.subplots(1, 2)\n",
    "    fig.set_size_inches(18, 7)\n",
    "\n",
    "    # The 1st subplot is the silhouette plot\n",
    "    # The silhouette coefficient can range from -1, 1 but in this example all\n",
    "    # lie within [-0.1, 1]\n",
    "    ax1.set_xlim([-0.1, 1])\n",
    "    # The (n_clusters+1)*10 is for inserting blank space between silhouette\n",
    "    # plots of individual clusters, to demarcate them clearly.\n",
    "    ax1.set_ylim([0, len(matrix) + (n_clusters + 1) * 10])\n",
    "\n",
    "    # Initialize the clusterer with n_clusters value and a random generator\n",
    "    # seed of 10 for reproducibility.\n",
    "    clusterer = KMeans(n_clusters=n_clusters, random_state=10)\n",
    "    cluster_labels = clusterer.fit_predict(matrix)\n",
    "\n",
    "    # The silhouette_score gives the average value for all the samples.\n",
    "    # This gives a perspective into the density and separation of the formed\n",
    "    # clusters\n",
    "    silhouette_avg = silhouette_score(matrix, cluster_labels)\n",
    "    print(\"For n_clusters =\", n_clusters,\n",
    "          \"The average silhouette_score is :\", silhouette_avg)\n",
    "\n",
    "    # Compute the silhouette scores for each sample\n",
    "    sample_silhouette_values = silhouette_samples(matrix, cluster_labels)\n",
    "\n",
    "    y_lower = 10\n",
    "    for i in range(n_clusters):\n",
    "        # Aggregate the silhouette scores for samples belonging to\n",
    "        # cluster i, and sort them\n",
    "        ith_cluster_silhouette_values = \\\n",
    "            sample_silhouette_values[cluster_labels == i]\n",
    "\n",
    "        ith_cluster_silhouette_values.sort()\n",
    "\n",
    "        size_cluster_i = ith_cluster_silhouette_values.shape[0]\n",
    "        y_upper = y_lower + size_cluster_i\n",
    "\n",
    "        color = cm.nipy_spectral(float(i) / n_clusters)\n",
    "        ax1.fill_betweenx(np.arange(y_lower, y_upper),\n",
    "                          0, ith_cluster_silhouette_values,\n",
    "                          facecolor=color, edgecolor=color, alpha=0.7)\n",
    "\n",
    "        # Label the silhouette plots with their cluster numbers at the middle\n",
    "        ax1.text(-0.05, y_lower + 0.5 * size_cluster_i, str(i))\n",
    "\n",
    "        # Compute the new y_lower for next plot\n",
    "        y_lower = y_upper + 10  # 10 for the 0 samples\n",
    "\n",
    "    ax1.set_title(\"The silhouette plot for the various clusters.\")\n",
    "    ax1.set_xlabel(\"The silhouette coefficient values\")\n",
    "    ax1.set_ylabel(\"Cluster label\")\n",
    "\n",
    "    # The vertical line for average silhouette score of all the values\n",
    "    ax1.axvline(x=silhouette_avg, color=\"red\", linestyle=\"--\")\n",
    "\n",
    "    ax1.set_yticks([])  # Clear the yaxis labels / ticks\n",
    "    ax1.set_xticks([-0.1, 0, 0.2, 0.4, 0.6, 0.8, 1])\n",
    "\n",
    "    # 2nd Plot showing the actual clusters formed\n",
    "    colors = cm.nipy_spectral(cluster_labels.astype(float) / n_clusters)\n",
    "    ax2.scatter(matrix[:, 0], matrix[:, 1], marker='.', s=30, lw=0, alpha=0.7,\n",
    "                c=colors, edgecolor='k')\n",
    "\n",
    "    # Labeling the clusters\n",
    "    centers = clusterer.cluster_centers_\n",
    "    # Draw white circles at cluster centers\n",
    "    ax2.scatter(centers[:, 0], centers[:, 1], marker='o',\n",
    "                c=\"white\", alpha=1, s=200, edgecolor='k')\n",
    "\n",
    "    for i, c in enumerate(centers):\n",
    "        ax2.scatter(c[0], c[1], marker='$%d$' % i, alpha=1,\n",
    "                    s=50, edgecolor='k')\n",
    "\n",
    "    ax2.set_title(\"The visualization of the clustered data.\")\n",
    "    ax2.set_xlabel(\"Feature space for the 1st feature\")\n",
    "    ax2.set_ylabel(\"Feature space for the 2nd feature\")\n",
    "\n",
    "    plt.suptitle((\"Silhouette analysis for KMeans clustering on sample data \"\n",
    "                  \"with n_clusters = %d\" % n_clusters),\n",
    "                 fontsize=14, fontweight='bold')\n",
    "\n",
    "plt.show()"
   ]
  },
  {
   "cell_type": "code",
   "execution_count": 198,
   "metadata": {},
   "outputs": [
    {
     "name": "stdout",
     "output_type": "stream",
     "text": [
      "For n_clusters = 11 The average silhouette_score is : 0.2007553883230271\n",
      "For n_clusters = 11 The average silhouette_score is : 0.20208208611380032\n"
     ]
    }
   ],
   "source": [
    "# Get the average silhouette score at 11 clusters\n",
    "n_clusters = 11\n",
    "silhouette_avg = -1\n",
    "while silhouette_avg <0.201:\n",
    "    kmeans = KMeans(init='k-means++', n_clusters = n_clusters, n_init=10)\n",
    "    kmeans.fit(matrix)\n",
    "    client_clusters = kmeans.predict(scaled_matrix)\n",
    "    silhouette_avg = silhouette_score(scaled_matrix, client_clusters)\n",
    "    \n",
    "   \n",
    "    print(\"For n_clusters =\", n_clusters, \"The average silhouette_score is :\", silhouette_avg)"
   ]
  },
  {
   "cell_type": "code",
   "execution_count": 201,
   "metadata": {},
   "outputs": [
    {
     "data": {
      "text/html": [
       "<div>\n",
       "<style scoped>\n",
       "    .dataframe tbody tr th:only-of-type {\n",
       "        vertical-align: middle;\n",
       "    }\n",
       "\n",
       "    .dataframe tbody tr th {\n",
       "        vertical-align: top;\n",
       "    }\n",
       "\n",
       "    .dataframe thead th {\n",
       "        text-align: right;\n",
       "    }\n",
       "</style>\n",
       "<table border=\"1\" class=\"dataframe\">\n",
       "  <thead>\n",
       "    <tr style=\"text-align: right;\">\n",
       "      <th></th>\n",
       "      <th>0</th>\n",
       "    </tr>\n",
       "  </thead>\n",
       "  <tbody>\n",
       "    <tr>\n",
       "      <th>0</th>\n",
       "      <td>1907</td>\n",
       "    </tr>\n",
       "    <tr>\n",
       "      <th>1</th>\n",
       "      <td>309</td>\n",
       "    </tr>\n",
       "    <tr>\n",
       "      <th>2</th>\n",
       "      <td>218</td>\n",
       "    </tr>\n",
       "    <tr>\n",
       "      <th>3</th>\n",
       "      <td>7</td>\n",
       "    </tr>\n",
       "    <tr>\n",
       "      <th>4</th>\n",
       "      <td>18</td>\n",
       "    </tr>\n",
       "    <tr>\n",
       "      <th>5</th>\n",
       "      <td>614</td>\n",
       "    </tr>\n",
       "    <tr>\n",
       "      <th>6</th>\n",
       "      <td>303</td>\n",
       "    </tr>\n",
       "    <tr>\n",
       "      <th>7</th>\n",
       "      <td>12</td>\n",
       "    </tr>\n",
       "    <tr>\n",
       "      <th>8</th>\n",
       "      <td>362</td>\n",
       "    </tr>\n",
       "    <tr>\n",
       "      <th>9</th>\n",
       "      <td>177</td>\n",
       "    </tr>\n",
       "    <tr>\n",
       "      <th>10</th>\n",
       "      <td>400</td>\n",
       "    </tr>\n",
       "  </tbody>\n",
       "</table>\n",
       "</div>"
      ],
      "text/plain": [
       "       0\n",
       "0   1907\n",
       "1    309\n",
       "2    218\n",
       "3      7\n",
       "4     18\n",
       "5    614\n",
       "6    303\n",
       "7     12\n",
       "8    362\n",
       "9    177\n",
       "10   400"
      ]
     },
     "execution_count": 201,
     "metadata": {},
     "output_type": "execute_result"
    }
   ],
   "source": [
    "## See the number of clients in each cluster\n",
    "\n",
    "pd.DataFrame(pd.Series(client_clusters).value_counts().sort_index())"
   ]
  },
  {
   "cell_type": "code",
   "execution_count": 202,
   "metadata": {},
   "outputs": [
    {
     "data": {
      "text/html": [
       "<div>\n",
       "<style scoped>\n",
       "    .dataframe tbody tr th:only-of-type {\n",
       "        vertical-align: middle;\n",
       "    }\n",
       "\n",
       "    .dataframe tbody tr th {\n",
       "        vertical-align: top;\n",
       "    }\n",
       "\n",
       "    .dataframe thead th {\n",
       "        text-align: right;\n",
       "    }\n",
       "</style>\n",
       "<table border=\"1\" class=\"dataframe\">\n",
       "  <thead>\n",
       "    <tr style=\"text-align: right;\">\n",
       "      <th></th>\n",
       "      <th>CustomerID</th>\n",
       "      <th>count</th>\n",
       "      <th>min</th>\n",
       "      <th>max</th>\n",
       "      <th>mean</th>\n",
       "      <th>sum</th>\n",
       "      <th>prod_cat_0</th>\n",
       "      <th>prod_cat_1</th>\n",
       "      <th>prod_cat_2</th>\n",
       "      <th>prod_cat_3</th>\n",
       "      <th>prod_cat_4</th>\n",
       "      <th>prod_cat_5</th>\n",
       "      <th>cluster</th>\n",
       "    </tr>\n",
       "  </thead>\n",
       "  <tbody>\n",
       "    <tr>\n",
       "      <th>0</th>\n",
       "      <td>12347</td>\n",
       "      <td>7</td>\n",
       "      <td>224.82</td>\n",
       "      <td>1294.32</td>\n",
       "      <td>615.714286</td>\n",
       "      <td>4310.00</td>\n",
       "      <td>26.375870</td>\n",
       "      <td>11.237123</td>\n",
       "      <td>4.437355</td>\n",
       "      <td>20.805104</td>\n",
       "      <td>29.540371</td>\n",
       "      <td>7.604176</td>\n",
       "      <td>0</td>\n",
       "    </tr>\n",
       "    <tr>\n",
       "      <th>1</th>\n",
       "      <td>12348</td>\n",
       "      <td>4</td>\n",
       "      <td>227.44</td>\n",
       "      <td>892.80</td>\n",
       "      <td>449.310000</td>\n",
       "      <td>1797.24</td>\n",
       "      <td>41.953217</td>\n",
       "      <td>38.016069</td>\n",
       "      <td>20.030714</td>\n",
       "      <td>0.000000</td>\n",
       "      <td>0.000000</td>\n",
       "      <td>0.000000</td>\n",
       "      <td>8</td>\n",
       "    </tr>\n",
       "    <tr>\n",
       "      <th>2</th>\n",
       "      <td>12349</td>\n",
       "      <td>1</td>\n",
       "      <td>1757.55</td>\n",
       "      <td>1757.55</td>\n",
       "      <td>1757.550000</td>\n",
       "      <td>1757.55</td>\n",
       "      <td>26.506216</td>\n",
       "      <td>4.513101</td>\n",
       "      <td>25.632272</td>\n",
       "      <td>12.245455</td>\n",
       "      <td>10.713778</td>\n",
       "      <td>20.389178</td>\n",
       "      <td>2</td>\n",
       "    </tr>\n",
       "    <tr>\n",
       "      <th>3</th>\n",
       "      <td>12350</td>\n",
       "      <td>1</td>\n",
       "      <td>334.40</td>\n",
       "      <td>334.40</td>\n",
       "      <td>334.400000</td>\n",
       "      <td>334.40</td>\n",
       "      <td>48.444976</td>\n",
       "      <td>11.692584</td>\n",
       "      <td>11.961722</td>\n",
       "      <td>27.900718</td>\n",
       "      <td>0.000000</td>\n",
       "      <td>0.000000</td>\n",
       "      <td>5</td>\n",
       "    </tr>\n",
       "    <tr>\n",
       "      <th>4</th>\n",
       "      <td>12352</td>\n",
       "      <td>7</td>\n",
       "      <td>144.35</td>\n",
       "      <td>840.30</td>\n",
       "      <td>340.815714</td>\n",
       "      <td>2385.71</td>\n",
       "      <td>15.705178</td>\n",
       "      <td>1.299404</td>\n",
       "      <td>49.630927</td>\n",
       "      <td>4.071325</td>\n",
       "      <td>14.601523</td>\n",
       "      <td>14.691643</td>\n",
       "      <td>9</td>\n",
       "    </tr>\n",
       "  </tbody>\n",
       "</table>\n",
       "</div>"
      ],
      "text/plain": [
       "  CustomerID  count      min      max         mean      sum  prod_cat_0  \\\n",
       "0      12347      7   224.82  1294.32   615.714286  4310.00   26.375870   \n",
       "1      12348      4   227.44   892.80   449.310000  1797.24   41.953217   \n",
       "2      12349      1  1757.55  1757.55  1757.550000  1757.55   26.506216   \n",
       "3      12350      1   334.40   334.40   334.400000   334.40   48.444976   \n",
       "4      12352      7   144.35   840.30   340.815714  2385.71   15.705178   \n",
       "\n",
       "   prod_cat_1  prod_cat_2  prod_cat_3  prod_cat_4  prod_cat_5  cluster  \n",
       "0   11.237123    4.437355   20.805104   29.540371    7.604176        0  \n",
       "1   38.016069   20.030714    0.000000    0.000000    0.000000        8  \n",
       "2    4.513101   25.632272   12.245455   10.713778   20.389178        2  \n",
       "3   11.692584   11.961722   27.900718    0.000000    0.000000        5  \n",
       "4    1.299404   49.630927    4.071325   14.601523   14.691643        9  "
      ]
     },
     "execution_count": 202,
     "metadata": {},
     "output_type": "execute_result"
    }
   ],
   "source": [
    "# Add a cluster field to use for indexing\n",
    "\n",
    "customers.loc[:, 'cluster'] = client_clusters\n",
    "\n",
    "customers.head()"
   ]
  },
  {
   "cell_type": "code",
   "execution_count": 203,
   "metadata": {},
   "outputs": [
    {
     "data": {
      "text/html": [
       "<div>\n",
       "<style scoped>\n",
       "    .dataframe tbody tr th:only-of-type {\n",
       "        vertical-align: middle;\n",
       "    }\n",
       "\n",
       "    .dataframe tbody tr th {\n",
       "        vertical-align: top;\n",
       "    }\n",
       "\n",
       "    .dataframe thead th {\n",
       "        text-align: right;\n",
       "    }\n",
       "</style>\n",
       "<table border=\"1\" class=\"dataframe\">\n",
       "  <thead>\n",
       "    <tr style=\"text-align: right;\">\n",
       "      <th></th>\n",
       "      <th>0</th>\n",
       "    </tr>\n",
       "  </thead>\n",
       "  <tbody>\n",
       "    <tr>\n",
       "      <th>CustomerID</th>\n",
       "      <td>inf</td>\n",
       "    </tr>\n",
       "    <tr>\n",
       "      <th>count</th>\n",
       "      <td>3.162500</td>\n",
       "    </tr>\n",
       "    <tr>\n",
       "      <th>min</th>\n",
       "      <td>192.190502</td>\n",
       "    </tr>\n",
       "    <tr>\n",
       "      <th>max</th>\n",
       "      <td>352.587500</td>\n",
       "    </tr>\n",
       "    <tr>\n",
       "      <th>mean</th>\n",
       "      <td>262.761689</td>\n",
       "    </tr>\n",
       "    <tr>\n",
       "      <th>sum</th>\n",
       "      <td>890.290353</td>\n",
       "    </tr>\n",
       "    <tr>\n",
       "      <th>prod_cat_0</th>\n",
       "      <td>11.507378</td>\n",
       "    </tr>\n",
       "    <tr>\n",
       "      <th>prod_cat_1</th>\n",
       "      <td>5.621796</td>\n",
       "    </tr>\n",
       "    <tr>\n",
       "      <th>prod_cat_2</th>\n",
       "      <td>6.947136</td>\n",
       "    </tr>\n",
       "    <tr>\n",
       "      <th>prod_cat_3</th>\n",
       "      <td>12.609690</td>\n",
       "    </tr>\n",
       "    <tr>\n",
       "      <th>prod_cat_4</th>\n",
       "      <td>13.392346</td>\n",
       "    </tr>\n",
       "    <tr>\n",
       "      <th>prod_cat_5</th>\n",
       "      <td>49.921654</td>\n",
       "    </tr>\n",
       "    <tr>\n",
       "      <th>cluster</th>\n",
       "      <td>10.000000</td>\n",
       "    </tr>\n",
       "  </tbody>\n",
       "</table>\n",
       "</div>"
      ],
      "text/plain": [
       "                     0\n",
       "CustomerID         inf\n",
       "count         3.162500\n",
       "min         192.190502\n",
       "max         352.587500\n",
       "mean        262.761689\n",
       "sum         890.290353\n",
       "prod_cat_0   11.507378\n",
       "prod_cat_1    5.621796\n",
       "prod_cat_2    6.947136\n",
       "prod_cat_3   12.609690\n",
       "prod_cat_4   13.392346\n",
       "prod_cat_5   49.921654\n",
       "cluster      10.000000"
      ]
     },
     "execution_count": 203,
     "metadata": {},
     "output_type": "execute_result"
    }
   ],
   "source": [
    "# Check the mean of each cluster\n",
    "cluster_mean = pd.DataFrame(customers[customers['cluster'] == i].mean())\n",
    "\n",
    "cluster_mean"
   ]
  },
  {
   "cell_type": "code",
   "execution_count": 204,
   "metadata": {},
   "outputs": [
    {
     "data": {
      "text/html": [
       "<div>\n",
       "<style scoped>\n",
       "    .dataframe tbody tr th:only-of-type {\n",
       "        vertical-align: middle;\n",
       "    }\n",
       "\n",
       "    .dataframe tbody tr th {\n",
       "        vertical-align: top;\n",
       "    }\n",
       "\n",
       "    .dataframe thead th {\n",
       "        text-align: right;\n",
       "    }\n",
       "</style>\n",
       "<table border=\"1\" class=\"dataframe\">\n",
       "  <thead>\n",
       "    <tr style=\"text-align: right;\">\n",
       "      <th></th>\n",
       "      <th>count</th>\n",
       "      <th>min</th>\n",
       "      <th>max</th>\n",
       "      <th>mean</th>\n",
       "      <th>sum</th>\n",
       "      <th>prod_cat_0</th>\n",
       "      <th>prod_cat_1</th>\n",
       "      <th>prod_cat_2</th>\n",
       "      <th>prod_cat_3</th>\n",
       "      <th>prod_cat_4</th>\n",
       "      <th>prod_cat_5</th>\n",
       "      <th>size</th>\n",
       "    </tr>\n",
       "    <tr>\n",
       "      <th>cluster</th>\n",
       "      <th></th>\n",
       "      <th></th>\n",
       "      <th></th>\n",
       "      <th></th>\n",
       "      <th></th>\n",
       "      <th></th>\n",
       "      <th></th>\n",
       "      <th></th>\n",
       "      <th></th>\n",
       "      <th></th>\n",
       "      <th></th>\n",
       "      <th></th>\n",
       "    </tr>\n",
       "  </thead>\n",
       "  <tbody>\n",
       "    <tr>\n",
       "      <th>8.0</th>\n",
       "      <td>2.549724</td>\n",
       "      <td>186.063757</td>\n",
       "      <td>329.479392</td>\n",
       "      <td>245.895586</td>\n",
       "      <td>708.047735</td>\n",
       "      <td>20.796668</td>\n",
       "      <td>50.717973</td>\n",
       "      <td>2.280335</td>\n",
       "      <td>12.567748</td>\n",
       "      <td>7.620160</td>\n",
       "      <td>6.018198</td>\n",
       "      <td>362</td>\n",
       "    </tr>\n",
       "    <tr>\n",
       "      <th>5.0</th>\n",
       "      <td>2.741042</td>\n",
       "      <td>209.069055</td>\n",
       "      <td>352.578925</td>\n",
       "      <td>276.121456</td>\n",
       "      <td>781.909708</td>\n",
       "      <td>54.294988</td>\n",
       "      <td>13.293210</td>\n",
       "      <td>3.089204</td>\n",
       "      <td>14.728778</td>\n",
       "      <td>9.037291</td>\n",
       "      <td>5.559529</td>\n",
       "      <td>614</td>\n",
       "    </tr>\n",
       "    <tr>\n",
       "      <th>9.0</th>\n",
       "      <td>2.632768</td>\n",
       "      <td>225.483220</td>\n",
       "      <td>364.344520</td>\n",
       "      <td>277.846222</td>\n",
       "      <td>852.056384</td>\n",
       "      <td>11.159578</td>\n",
       "      <td>4.076671</td>\n",
       "      <td>53.818317</td>\n",
       "      <td>9.628588</td>\n",
       "      <td>8.756940</td>\n",
       "      <td>12.559906</td>\n",
       "      <td>177</td>\n",
       "    </tr>\n",
       "    <tr>\n",
       "      <th>10.0</th>\n",
       "      <td>3.162500</td>\n",
       "      <td>192.190502</td>\n",
       "      <td>352.587500</td>\n",
       "      <td>262.761689</td>\n",
       "      <td>890.290353</td>\n",
       "      <td>11.507378</td>\n",
       "      <td>5.621796</td>\n",
       "      <td>6.947136</td>\n",
       "      <td>12.609690</td>\n",
       "      <td>13.392346</td>\n",
       "      <td>49.921654</td>\n",
       "      <td>400</td>\n",
       "    </tr>\n",
       "    <tr>\n",
       "      <th>1.0</th>\n",
       "      <td>2.789644</td>\n",
       "      <td>195.730809</td>\n",
       "      <td>378.186570</td>\n",
       "      <td>271.937925</td>\n",
       "      <td>976.134175</td>\n",
       "      <td>13.562213</td>\n",
       "      <td>6.865835</td>\n",
       "      <td>3.364214</td>\n",
       "      <td>13.290474</td>\n",
       "      <td>53.416995</td>\n",
       "      <td>9.519685</td>\n",
       "      <td>309</td>\n",
       "    </tr>\n",
       "    <tr>\n",
       "      <th>6.0</th>\n",
       "      <td>3.369637</td>\n",
       "      <td>194.198053</td>\n",
       "      <td>411.711056</td>\n",
       "      <td>295.201284</td>\n",
       "      <td>1124.924752</td>\n",
       "      <td>13.686532</td>\n",
       "      <td>6.895086</td>\n",
       "      <td>2.488633</td>\n",
       "      <td>63.908573</td>\n",
       "      <td>7.291507</td>\n",
       "      <td>5.729668</td>\n",
       "      <td>303</td>\n",
       "    </tr>\n",
       "    <tr>\n",
       "      <th>0.0</th>\n",
       "      <td>5.336130</td>\n",
       "      <td>189.859424</td>\n",
       "      <td>559.449917</td>\n",
       "      <td>342.998771</td>\n",
       "      <td>2005.834599</td>\n",
       "      <td>24.856001</td>\n",
       "      <td>12.647673</td>\n",
       "      <td>6.389829</td>\n",
       "      <td>23.218997</td>\n",
       "      <td>18.273712</td>\n",
       "      <td>14.619342</td>\n",
       "      <td>1907</td>\n",
       "    </tr>\n",
       "    <tr>\n",
       "      <th>2.0</th>\n",
       "      <td>2.444954</td>\n",
       "      <td>935.845275</td>\n",
       "      <td>1528.793720</td>\n",
       "      <td>1196.993570</td>\n",
       "      <td>3179.527161</td>\n",
       "      <td>26.056775</td>\n",
       "      <td>11.790444</td>\n",
       "      <td>8.593890</td>\n",
       "      <td>20.907527</td>\n",
       "      <td>18.682519</td>\n",
       "      <td>13.969154</td>\n",
       "      <td>218</td>\n",
       "    </tr>\n",
       "    <tr>\n",
       "      <th>7.0</th>\n",
       "      <td>1.500000</td>\n",
       "      <td>4075.741667</td>\n",
       "      <td>6245.503333</td>\n",
       "      <td>5073.737778</td>\n",
       "      <td>7931.028333</td>\n",
       "      <td>18.218655</td>\n",
       "      <td>19.206717</td>\n",
       "      <td>10.015228</td>\n",
       "      <td>24.582946</td>\n",
       "      <td>15.135140</td>\n",
       "      <td>12.841314</td>\n",
       "      <td>12</td>\n",
       "    </tr>\n",
       "    <tr>\n",
       "      <th>3.0</th>\n",
       "      <td>127.285714</td>\n",
       "      <td>10.585714</td>\n",
       "      <td>2259.280000</td>\n",
       "      <td>383.501460</td>\n",
       "      <td>49893.532857</td>\n",
       "      <td>25.299977</td>\n",
       "      <td>13.855787</td>\n",
       "      <td>7.418351</td>\n",
       "      <td>22.061545</td>\n",
       "      <td>14.295372</td>\n",
       "      <td>17.068968</td>\n",
       "      <td>7</td>\n",
       "    </tr>\n",
       "    <tr>\n",
       "      <th>4.0</th>\n",
       "      <td>31.222222</td>\n",
       "      <td>83.604444</td>\n",
       "      <td>13398.949444</td>\n",
       "      <td>2909.304519</td>\n",
       "      <td>87315.557222</td>\n",
       "      <td>19.037729</td>\n",
       "      <td>8.384998</td>\n",
       "      <td>8.207003</td>\n",
       "      <td>29.418236</td>\n",
       "      <td>18.799598</td>\n",
       "      <td>16.152436</td>\n",
       "      <td>18</td>\n",
       "    </tr>\n",
       "  </tbody>\n",
       "</table>\n",
       "</div>"
      ],
      "text/plain": [
       "              count          min           max         mean           sum  \\\n",
       "cluster                                                                     \n",
       "8.0        2.549724   186.063757    329.479392   245.895586    708.047735   \n",
       "5.0        2.741042   209.069055    352.578925   276.121456    781.909708   \n",
       "9.0        2.632768   225.483220    364.344520   277.846222    852.056384   \n",
       "10.0       3.162500   192.190502    352.587500   262.761689    890.290353   \n",
       "1.0        2.789644   195.730809    378.186570   271.937925    976.134175   \n",
       "6.0        3.369637   194.198053    411.711056   295.201284   1124.924752   \n",
       "0.0        5.336130   189.859424    559.449917   342.998771   2005.834599   \n",
       "2.0        2.444954   935.845275   1528.793720  1196.993570   3179.527161   \n",
       "7.0        1.500000  4075.741667   6245.503333  5073.737778   7931.028333   \n",
       "3.0      127.285714    10.585714   2259.280000   383.501460  49893.532857   \n",
       "4.0       31.222222    83.604444  13398.949444  2909.304519  87315.557222   \n",
       "\n",
       "         prod_cat_0  prod_cat_1  prod_cat_2  prod_cat_3  prod_cat_4  \\\n",
       "cluster                                                               \n",
       "8.0       20.796668   50.717973    2.280335   12.567748    7.620160   \n",
       "5.0       54.294988   13.293210    3.089204   14.728778    9.037291   \n",
       "9.0       11.159578    4.076671   53.818317    9.628588    8.756940   \n",
       "10.0      11.507378    5.621796    6.947136   12.609690   13.392346   \n",
       "1.0       13.562213    6.865835    3.364214   13.290474   53.416995   \n",
       "6.0       13.686532    6.895086    2.488633   63.908573    7.291507   \n",
       "0.0       24.856001   12.647673    6.389829   23.218997   18.273712   \n",
       "2.0       26.056775   11.790444    8.593890   20.907527   18.682519   \n",
       "7.0       18.218655   19.206717   10.015228   24.582946   15.135140   \n",
       "3.0       25.299977   13.855787    7.418351   22.061545   14.295372   \n",
       "4.0       19.037729    8.384998    8.207003   29.418236   18.799598   \n",
       "\n",
       "         prod_cat_5  size  \n",
       "cluster                    \n",
       "8.0        6.018198   362  \n",
       "5.0        5.559529   614  \n",
       "9.0       12.559906   177  \n",
       "10.0      49.921654   400  \n",
       "1.0        9.519685   309  \n",
       "6.0        5.729668   303  \n",
       "0.0       14.619342  1907  \n",
       "2.0       13.969154   218  \n",
       "7.0       12.841314    12  \n",
       "3.0       17.068968     7  \n",
       "4.0       16.152436    18  "
      ]
     },
     "execution_count": 204,
     "metadata": {},
     "output_type": "execute_result"
    }
   ],
   "source": [
    "# Create a final dataframe of summary statistics for each cluster to be used for modeling\n",
    "\n",
    "cluster_summary = pd.DataFrame()\n",
    "\n",
    "for i in range(n_clusters):\n",
    "    temp = pd.DataFrame(customers[customers['cluster'] == i].mean())\n",
    "   \n",
    "    #set the index to the cluster number\n",
    "    temp = temp.T.set_index('cluster',drop = True)\n",
    "    \n",
    "    #add the size of each cluster\n",
    "    temp['size'] = customers[customers['cluster'] == i].shape[0]\n",
    "   \n",
    "    #merge the two dataframes\n",
    "    cluster_summary = pd.concat([cluster_summary, temp])\n",
    "    \n",
    "cluster_summary.drop('CustomerID', axis = 1, inplace = True)\n",
    "\n",
    "cluster_summary = cluster_summary.sort_values('sum')\n",
    "cluster_summary"
   ]
  },
  {
   "cell_type": "code",
   "execution_count": null,
   "metadata": {},
   "outputs": [],
   "source": []
  },
  {
   "cell_type": "code",
   "execution_count": null,
   "metadata": {},
   "outputs": [],
   "source": [
    "## MODELING SECTION"
   ]
  },
  {
   "cell_type": "code",
   "execution_count": 205,
   "metadata": {},
   "outputs": [],
   "source": [
    "# Create the final data to model with the desired features\n",
    "\n",
    "features = ['mean', 'prod_cat_0', 'prod_cat_1', 'prod_cat_2', 'prod_cat_3', 'prod_cat_4', 'prod_cat_5' ]\n",
    "\n",
    "# Independent variables/features\n",
    "X = customers[features]\n",
    "\n",
    "# Dependent variable\n",
    "Y = customers['cluster']\n"
   ]
  },
  {
   "cell_type": "code",
   "execution_count": null,
   "metadata": {},
   "outputs": [],
   "source": []
  },
  {
   "cell_type": "code",
   "execution_count": 206,
   "metadata": {},
   "outputs": [],
   "source": [
    "#Split the data into train and test\n",
    "X_train, X_test, Y_train, Y_test = model_selection.train_test_split(X, Y, test_size=0.2, random_state=0)"
   ]
  },
  {
   "cell_type": "code",
   "execution_count": 207,
   "metadata": {},
   "outputs": [
    {
     "name": "stdout",
     "output_type": "stream",
     "text": [
      "Training Features Shape: (3461, 7)\n",
      "Training Labels Shape: (3461,)\n",
      "Testing Features Shape: (866, 7)\n",
      "Testing Labels Shape: (866,)\n"
     ]
    }
   ],
   "source": [
    "print('Training Features Shape:', X_train.shape)\n",
    "print('Training Labels Shape:', Y_train.shape)\n",
    "print('Testing Features Shape:', X_test.shape)\n",
    "print('Testing Labels Shape:', Y_test.shape)"
   ]
  },
  {
   "cell_type": "code",
   "execution_count": null,
   "metadata": {},
   "outputs": [],
   "source": [
    "# Functions defined for later use"
   ]
  },
  {
   "cell_type": "code",
   "execution_count": 208,
   "metadata": {},
   "outputs": [],
   "source": [
    "##Confusion Matrix function\n",
    "##Retrieved from....https://scikit-learn.org/stable/auto_examples/model_selection/plot_confusion_matrix.html\n",
    "\n",
    "def plot_confusion_matrix(cm, classes,\n",
    "                          normalize=False,\n",
    "                          title='Confusion matrix',\n",
    "                          cmap=plt.cm.Blues):\n",
    "    \"\"\"\n",
    "    This function prints and plots the confusion matrix.\n",
    "    Normalization can be applied by setting `normalize=True`.\n",
    "    \"\"\"\n",
    "    if normalize:\n",
    "        cm = cm.astype('float') / cm.sum(axis=1)[:, np.newaxis]\n",
    "        print(\"Normalized confusion matrix\")\n",
    "    else:\n",
    "        print('Confusion matrix, without normalization')\n",
    "\n",
    "    plt.imshow(cm, interpolation='nearest', cmap=cmap)\n",
    "    plt.title(title)\n",
    "    plt.colorbar()\n",
    "    tick_marks = np.arange(len(classes))\n",
    "    plt.xticks(tick_marks, classes, rotation=45)\n",
    "    plt.yticks(tick_marks, classes)\n",
    "\n",
    "    fmt = '.2f' if normalize else 'd'\n",
    "    thresh = cm.max() / 2.\n",
    "    for i, j in itertools.product(range(cm.shape[0]), range(cm.shape[1])):\n",
    "        plt.text(j, i, format(cm[i, j], fmt),\n",
    "                 horizontalalignment=\"center\",\n",
    "                 color=\"white\" if cm[i, j] > thresh else \"black\")\n",
    "\n",
    "    plt.ylabel('True label')\n",
    "    plt.xlabel('Predicted label')\n",
    "    plt.tight_layout()"
   ]
  },
  {
   "cell_type": "code",
   "execution_count": null,
   "metadata": {},
   "outputs": [],
   "source": []
  },
  {
   "cell_type": "code",
   "execution_count": null,
   "metadata": {},
   "outputs": [],
   "source": [
    "## Build the models (Support Vector Machine, Logistic Regression, Decision Tree and K Nearest Neighbor)"
   ]
  },
  {
   "cell_type": "code",
   "execution_count": null,
   "metadata": {},
   "outputs": [],
   "source": [
    "# Support Vector Machine Model"
   ]
  },
  {
   "cell_type": "code",
   "execution_count": 209,
   "metadata": {},
   "outputs": [
    {
     "data": {
      "text/plain": [
       "SVC(C=1.0, cache_size=200, class_weight=None, coef0=0.0,\n",
       "  decision_function_shape='ovr', degree=3, gamma='auto_deprecated',\n",
       "  kernel='linear', max_iter=-1, probability=False, random_state=None,\n",
       "  shrinking=True, tol=0.001, verbose=False)"
      ]
     },
     "execution_count": 209,
     "metadata": {},
     "output_type": "execute_result"
    }
   ],
   "source": [
    "from sklearn.svm import SVC  \n",
    "svclassifier = SVC(kernel='linear')  \n",
    "svclassifier.fit(X_train, Y_train)  "
   ]
  },
  {
   "cell_type": "code",
   "execution_count": 214,
   "metadata": {},
   "outputs": [
    {
     "name": "stdout",
     "output_type": "stream",
     "text": [
      "Accuracy of support vector machine test set  93.87990762124711\n"
     ]
    }
   ],
   "source": [
    "# Predicting the test set results and calculating the accuracy\n",
    "y_pred = svclassifier.predict(X_test)  \n",
    "\n",
    "print(\"Accuracy of support vector machine test set \", accuracy_score(Y_test,y_pred)*100)"
   ]
  },
  {
   "cell_type": "code",
   "execution_count": 211,
   "metadata": {},
   "outputs": [
    {
     "name": "stdout",
     "output_type": "stream",
     "text": [
      "Confusion matrix, without normalization\n"
     ]
    },
    {
     "data": {
      "image/png": "[encoded data removed]",
      "text/plain": [
       "<Figure size 576x576 with 2 Axes>"
      ]
     },
     "metadata": {
      "needs_background": "light"
     },
     "output_type": "display_data"
    }
   ],
   "source": [
    "# Compute confusion matrix, using function defined above\n",
    "class_names = [i for i in range(11)]\n",
    "cnf_matrix = confusion_matrix(Y_test, y_pred)\n",
    "\n",
    "np.set_printoptions(precision=2)\n",
    "plt.figure(figsize = (8,8))\n",
    "plot_confusion_matrix(cnf_matrix, classes=class_names, normalize = False, title='Confusion matrix for SVM')"
   ]
  },
  {
   "cell_type": "code",
   "execution_count": 212,
   "metadata": {},
   "outputs": [
    {
     "name": "stdout",
     "output_type": "stream",
     "text": [
      "              precision    recall  f1-score   support\n",
      "\n",
      "           0       0.95      0.94      0.95       379\n",
      "           1       0.97      0.94      0.95        64\n",
      "           2       0.76      0.81      0.78        47\n",
      "           3       0.00      0.00      0.00         2\n",
      "           4       0.00      0.00      0.00         0\n",
      "           5       0.97      0.90      0.94       121\n",
      "           6       0.98      0.98      0.98        61\n",
      "           7       1.00      0.50      0.67         2\n",
      "           8       0.92      0.99      0.95        74\n",
      "           9       0.97      0.97      0.97        39\n",
      "          10       0.94      0.99      0.96        77\n",
      "\n",
      "   micro avg       0.94      0.94      0.94       866\n",
      "   macro avg       0.77      0.73      0.74       866\n",
      "weighted avg       0.94      0.94      0.94       866\n",
      "\n"
     ]
    },
    {
     "name": "stderr",
     "output_type": "stream",
     "text": [
      "C:\\Users\\donna\\Anaconda3\\envs\\MarketSegmentation\\lib\\site-packages\\sklearn\\metrics\\classification.py:1143: UndefinedMetricWarning: Precision and F-score are ill-defined and being set to 0.0 in labels with no predicted samples.\n",
      "  'precision', 'predicted', average, warn_for)\n",
      "C:\\Users\\donna\\Anaconda3\\envs\\MarketSegmentation\\lib\\site-packages\\sklearn\\metrics\\classification.py:1145: UndefinedMetricWarning: Recall and F-score are ill-defined and being set to 0.0 in labels with no true samples.\n",
      "  'recall', 'true', average, warn_for)\n",
      "C:\\Users\\donna\\Anaconda3\\envs\\MarketSegmentation\\lib\\site-packages\\sklearn\\metrics\\classification.py:1143: UndefinedMetricWarning: Precision and F-score are ill-defined and being set to 0.0 in labels with no predicted samples.\n",
      "  'precision', 'predicted', average, warn_for)\n",
      "C:\\Users\\donna\\Anaconda3\\envs\\MarketSegmentation\\lib\\site-packages\\sklearn\\metrics\\classification.py:1145: UndefinedMetricWarning: Recall and F-score are ill-defined and being set to 0.0 in labels with no true samples.\n",
      "  'recall', 'true', average, warn_for)\n",
      "C:\\Users\\donna\\Anaconda3\\envs\\MarketSegmentation\\lib\\site-packages\\sklearn\\metrics\\classification.py:1143: UndefinedMetricWarning: Precision and F-score are ill-defined and being set to 0.0 in labels with no predicted samples.\n",
      "  'precision', 'predicted', average, warn_for)\n",
      "C:\\Users\\donna\\Anaconda3\\envs\\MarketSegmentation\\lib\\site-packages\\sklearn\\metrics\\classification.py:1145: UndefinedMetricWarning: Recall and F-score are ill-defined and being set to 0.0 in labels with no true samples.\n",
      "  'recall', 'true', average, warn_for)\n"
     ]
    }
   ],
   "source": [
    "#Produce classification report\n",
    "class_names = [i for i in range(11)]\n",
    "print(classification_report(Y_test, y_pred))"
   ]
  },
  {
   "cell_type": "code",
   "execution_count": 85,
   "metadata": {},
   "outputs": [],
   "source": []
  },
  {
   "cell_type": "code",
   "execution_count": null,
   "metadata": {},
   "outputs": [],
   "source": [
    "# Logistic Regression Model"
   ]
  },
  {
   "cell_type": "code",
   "execution_count": 215,
   "metadata": {},
   "outputs": [
    {
     "data": {
      "text/plain": [
       "LogisticRegression(C=1.0, class_weight=None, dual=False, fit_intercept=True,\n",
       "          intercept_scaling=1, max_iter=100, multi_class='warn',\n",
       "          n_jobs=None, penalty='l2', random_state=None, solver='warn',\n",
       "          tol=0.0001, verbose=0, warm_start=False)"
      ]
     },
     "execution_count": 215,
     "metadata": {},
     "output_type": "execute_result"
    }
   ],
   "source": [
    "import warnings\n",
    "warnings.filterwarnings(\"ignore\", category=FutureWarning)\n",
    "logreg = LogisticRegression()\n",
    "logreg.fit(X_train, Y_train)"
   ]
  },
  {
   "cell_type": "code",
   "execution_count": 216,
   "metadata": {},
   "outputs": [
    {
     "name": "stdout",
     "output_type": "stream",
     "text": [
      "Accuracy of logistic regression classifier on test set  89.95381062355659\n"
     ]
    }
   ],
   "source": [
    "#Predicting the test set results and calculating the accuracy\n",
    "y_pred = logreg.predict(X_test)\n",
    "\n",
    "print(\"Accuracy of logistic regression classifier on test set \", accuracy_score(Y_test,y_pred)*100)"
   ]
  },
  {
   "cell_type": "code",
   "execution_count": 217,
   "metadata": {},
   "outputs": [
    {
     "name": "stdout",
     "output_type": "stream",
     "text": [
      "Confusion matrix, without normalization\n"
     ]
    },
    {
     "data": {
      "image/png": "[encoded data removed]",
      "text/plain": [
       "<Figure size 576x576 with 2 Axes>"
      ]
     },
     "metadata": {
      "needs_background": "light"
     },
     "output_type": "display_data"
    }
   ],
   "source": [
    "# Compute confusion matrix, using function defined above\n",
    "class_names = [i for i in range(11)]\n",
    "cnf_matrix = confusion_matrix(Y_test, y_pred)\n",
    "\n",
    "np.set_printoptions(precision=2)\n",
    "plt.figure(figsize = (8,8))\n",
    "plot_confusion_matrix(cnf_matrix, classes=class_names, normalize = False, title='Confusion matrix for Logistic Regression')"
   ]
  },
  {
   "cell_type": "code",
   "execution_count": 218,
   "metadata": {},
   "outputs": [
    {
     "name": "stdout",
     "output_type": "stream",
     "text": [
      "              precision    recall  f1-score   support\n",
      "\n",
      "           0       0.85      0.99      0.91       379\n",
      "           1       0.98      0.88      0.93        64\n",
      "           2       0.85      0.23      0.37        47\n",
      "           3       0.00      0.00      0.00         2\n",
      "           5       0.92      0.87      0.89       121\n",
      "           6       0.98      0.89      0.93        61\n",
      "           7       0.00      0.00      0.00         2\n",
      "           8       0.99      0.93      0.96        74\n",
      "           9       1.00      0.95      0.97        39\n",
      "          10       0.92      0.95      0.94        77\n",
      "\n",
      "   micro avg       0.90      0.90      0.90       866\n",
      "   macro avg       0.75      0.67      0.69       866\n",
      "weighted avg       0.90      0.90      0.89       866\n",
      "\n"
     ]
    },
    {
     "name": "stderr",
     "output_type": "stream",
     "text": [
      "C:\\Users\\donna\\Anaconda3\\envs\\MarketSegmentation\\lib\\site-packages\\sklearn\\metrics\\classification.py:1143: UndefinedMetricWarning: Precision and F-score are ill-defined and being set to 0.0 in labels with no predicted samples.\n",
      "  'precision', 'predicted', average, warn_for)\n",
      "C:\\Users\\donna\\Anaconda3\\envs\\MarketSegmentation\\lib\\site-packages\\sklearn\\metrics\\classification.py:1143: UndefinedMetricWarning: Precision and F-score are ill-defined and being set to 0.0 in labels with no predicted samples.\n",
      "  'precision', 'predicted', average, warn_for)\n",
      "C:\\Users\\donna\\Anaconda3\\envs\\MarketSegmentation\\lib\\site-packages\\sklearn\\metrics\\classification.py:1143: UndefinedMetricWarning: Precision and F-score are ill-defined and being set to 0.0 in labels with no predicted samples.\n",
      "  'precision', 'predicted', average, warn_for)\n"
     ]
    }
   ],
   "source": [
    "#Produce classification report\n",
    "class_names = [i for i in range(11)]\n",
    "print(classification_report(Y_test, y_pred))\n"
   ]
  },
  {
   "cell_type": "code",
   "execution_count": null,
   "metadata": {},
   "outputs": [],
   "source": []
  },
  {
   "cell_type": "code",
   "execution_count": null,
   "metadata": {},
   "outputs": [],
   "source": [
    "# Decision Tree Model"
   ]
  },
  {
   "cell_type": "code",
   "execution_count": 219,
   "metadata": {},
   "outputs": [
    {
     "data": {
      "text/plain": [
       "DecisionTreeClassifier(class_weight=None, criterion='gini', max_depth=3,\n",
       "            max_features=None, max_leaf_nodes=None,\n",
       "            min_impurity_decrease=0.0, min_impurity_split=None,\n",
       "            min_samples_leaf=5, min_samples_split=2,\n",
       "            min_weight_fraction_leaf=0.0, presort=False, random_state=100,\n",
       "            splitter='best')"
      ]
     },
     "execution_count": 219,
     "metadata": {},
     "output_type": "execute_result"
    }
   ],
   "source": [
    "clf_gini = DecisionTreeClassifier(criterion = \"gini\", random_state = 100,\n",
    "                               max_depth=3, min_samples_leaf=5)\n",
    "clf_gini.fit(X_train, Y_train)"
   ]
  },
  {
   "cell_type": "code",
   "execution_count": 220,
   "metadata": {},
   "outputs": [
    {
     "name": "stdout",
     "output_type": "stream",
     "text": [
      "Accuracy of decision tree on test set  71.47806004618937\n"
     ]
    }
   ],
   "source": [
    "#Predicting the test set results and calculating the accuracy\n",
    "y_pred = clf_gini.predict(X_test)\n",
    "print(\"Accuracy of decision tree on test set \", accuracy_score(Y_test,y_pred)*100)"
   ]
  },
  {
   "cell_type": "code",
   "execution_count": 221,
   "metadata": {},
   "outputs": [
    {
     "name": "stdout",
     "output_type": "stream",
     "text": [
      "              precision    recall  f1-score   support\n",
      "\n",
      "           0       0.64      0.95      0.76       379\n",
      "           1       0.00      0.00      0.00        64\n",
      "           2       0.69      0.19      0.30        47\n",
      "           3       0.00      0.00      0.00         2\n",
      "           5       0.86      0.88      0.87       121\n",
      "           6       0.00      0.00      0.00        61\n",
      "           7       0.00      0.00      0.00         2\n",
      "           8       0.93      0.96      0.95        74\n",
      "           9       0.00      0.00      0.00        39\n",
      "          10       0.83      0.95      0.88        77\n",
      "\n",
      "   micro avg       0.71      0.71      0.71       866\n",
      "   macro avg       0.40      0.39      0.38       866\n",
      "weighted avg       0.59      0.71      0.63       866\n",
      "\n"
     ]
    },
    {
     "name": "stderr",
     "output_type": "stream",
     "text": [
      "C:\\Users\\donna\\Anaconda3\\envs\\MarketSegmentation\\lib\\site-packages\\sklearn\\metrics\\classification.py:1143: UndefinedMetricWarning: Precision and F-score are ill-defined and being set to 0.0 in labels with no predicted samples.\n",
      "  'precision', 'predicted', average, warn_for)\n",
      "C:\\Users\\donna\\Anaconda3\\envs\\MarketSegmentation\\lib\\site-packages\\sklearn\\metrics\\classification.py:1143: UndefinedMetricWarning: Precision and F-score are ill-defined and being set to 0.0 in labels with no predicted samples.\n",
      "  'precision', 'predicted', average, warn_for)\n",
      "C:\\Users\\donna\\Anaconda3\\envs\\MarketSegmentation\\lib\\site-packages\\sklearn\\metrics\\classification.py:1143: UndefinedMetricWarning: Precision and F-score are ill-defined and being set to 0.0 in labels with no predicted samples.\n",
      "  'precision', 'predicted', average, warn_for)\n"
     ]
    }
   ],
   "source": [
    "#Produce classification report\n",
    "class_names = [i for i in range(11)]\n",
    "print(classification_report(Y_test, y_pred))\n"
   ]
  },
  {
   "cell_type": "code",
   "execution_count": null,
   "metadata": {},
   "outputs": [],
   "source": []
  },
  {
   "cell_type": "code",
   "execution_count": 222,
   "metadata": {},
   "outputs": [],
   "source": [
    "# K Nearest Neighbor"
   ]
  },
  {
   "cell_type": "code",
   "execution_count": 223,
   "metadata": {},
   "outputs": [
    {
     "name": "stdout",
     "output_type": "stream",
     "text": [
      "Accuracy of k-nearest neighbor 80.13856812933025\n"
     ]
    }
   ],
   "source": [
    "knn = neighbors.KNeighborsClassifier()\n",
    "knn.fit(X_train, Y_train)\n",
    "knn_pred = knn.predict(X_test)\n",
    "\n",
    "print(\"Accuracy of k-nearest neighbor\", accuracy_score(Y_test,knn_pred)*100)"
   ]
  },
  {
   "cell_type": "code",
   "execution_count": 224,
   "metadata": {},
   "outputs": [
    {
     "name": "stdout",
     "output_type": "stream",
     "text": [
      "              precision    recall  f1-score   support\n",
      "\n",
      "           0       0.74      0.94      0.83       379\n",
      "           1       0.93      0.67      0.78        64\n",
      "           2       0.68      0.87      0.77        47\n",
      "           3       0.00      0.00      0.00         2\n",
      "           4       0.00      0.00      0.00         0\n",
      "           5       0.89      0.68      0.77       121\n",
      "           6       1.00      0.66      0.79        61\n",
      "           7       1.00      0.50      0.67         2\n",
      "           8       0.89      0.69      0.78        74\n",
      "           9       0.96      0.62      0.75        39\n",
      "          10       0.95      0.73      0.82        77\n",
      "\n",
      "   micro avg       0.80      0.80      0.80       866\n",
      "   macro avg       0.73      0.58      0.63       866\n",
      "weighted avg       0.83      0.80      0.80       866\n",
      "\n"
     ]
    },
    {
     "name": "stderr",
     "output_type": "stream",
     "text": [
      "C:\\Users\\donna\\Anaconda3\\envs\\MarketSegmentation\\lib\\site-packages\\sklearn\\metrics\\classification.py:1143: UndefinedMetricWarning: Precision and F-score are ill-defined and being set to 0.0 in labels with no predicted samples.\n",
      "  'precision', 'predicted', average, warn_for)\n",
      "C:\\Users\\donna\\Anaconda3\\envs\\MarketSegmentation\\lib\\site-packages\\sklearn\\metrics\\classification.py:1145: UndefinedMetricWarning: Recall and F-score are ill-defined and being set to 0.0 in labels with no true samples.\n",
      "  'recall', 'true', average, warn_for)\n",
      "C:\\Users\\donna\\Anaconda3\\envs\\MarketSegmentation\\lib\\site-packages\\sklearn\\metrics\\classification.py:1143: UndefinedMetricWarning: Precision and F-score are ill-defined and being set to 0.0 in labels with no predicted samples.\n",
      "  'precision', 'predicted', average, warn_for)\n",
      "C:\\Users\\donna\\Anaconda3\\envs\\MarketSegmentation\\lib\\site-packages\\sklearn\\metrics\\classification.py:1145: UndefinedMetricWarning: Recall and F-score are ill-defined and being set to 0.0 in labels with no true samples.\n",
      "  'recall', 'true', average, warn_for)\n",
      "C:\\Users\\donna\\Anaconda3\\envs\\MarketSegmentation\\lib\\site-packages\\sklearn\\metrics\\classification.py:1143: UndefinedMetricWarning: Precision and F-score are ill-defined and being set to 0.0 in labels with no predicted samples.\n",
      "  'precision', 'predicted', average, warn_for)\n",
      "C:\\Users\\donna\\Anaconda3\\envs\\MarketSegmentation\\lib\\site-packages\\sklearn\\metrics\\classification.py:1145: UndefinedMetricWarning: Recall and F-score are ill-defined and being set to 0.0 in labels with no true samples.\n",
      "  'recall', 'true', average, warn_for)\n"
     ]
    }
   ],
   "source": [
    "#Produce classification report\n",
    "class_names = [i for i in range(11)]\n",
    "print(classification_report(Y_test, knn_pred))\n"
   ]
  }
 ],
 "metadata": {
  "kernelspec": {
   "display_name": "Python 3",
   "language": "python",
   "name": "python3"
  },
  "language_info": {
   "codemirror_mode": {
    "name": "ipython",
    "version": 3
   },
   "file_extension": ".py",
   "mimetype": "text/x-python",
   "name": "python",
   "nbconvert_exporter": "python",
   "pygments_lexer": "ipython3",
   "version": "3.7.1"
  }
 },
 "nbformat": 4,
 "nbformat_minor": 2
}
